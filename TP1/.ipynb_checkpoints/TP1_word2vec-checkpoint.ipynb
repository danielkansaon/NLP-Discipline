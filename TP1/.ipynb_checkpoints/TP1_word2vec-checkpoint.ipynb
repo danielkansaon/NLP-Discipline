{
 "cells": [
  {
   "cell_type": "code",
   "execution_count": 259,
   "metadata": {},
   "outputs": [],
   "source": [
    "import nltk\n",
    "import urllib\n",
    "import bs4 as bs\n",
    "import re\n",
    "from gensim.models import Word2Vec\n",
    "from gensim.models.word2vec import Text8Corpus\n",
    "from gensim.models import word2vec\n",
    "from nltk.corpus import stopwords\n",
    "import pandas as pd\n",
    "import gzip\n",
    "import json\n",
    "import gensim.downloader as api\n",
    "import pandas as pd\n",
    "import numpy as np\n",
    "from nltk.tokenize import word_tokenize\n",
    "import logging\n",
    "from multiprocessing import cpu_count\n",
    "import string\n",
    "import train_models_word2vec as LocalFile\n",
    "from os.path import exists\n",
    "import matplotlib.pyplot as plt\n",
    "from gensim.models import Word2Vec, KeyedVectors   \n",
    "from gensim.test.utils import datapath\n",
    "from IPython.display import display\n"
   ]
  },
  {
   "cell_type": "markdown",
   "metadata": {},
   "source": [
    "# Declaração"
   ]
  },
  {
   "cell_type": "code",
   "execution_count": 49,
   "metadata": {},
   "outputs": [],
   "source": [
    "#Declaração\n",
    "DATASET_NAME = 'text8' #dataset used to train\n",
    "DATA_VALIDATION_PATH = \"data/questions-words.txt\"\n",
    "STOP_WORDS = stopwords.words('english')\n",
    "PUNCTUATION = ['!','\"','#','$','%','&','\\/','(',')','*','+',',','-','.','/',':',';','<','=','>','?','@','[',']','^','_','`','{','|','}','~']"
   ]
  },
  {
   "cell_type": "markdown",
   "metadata": {},
   "source": [
    "# Métodos"
   ]
  },
  {
   "cell_type": "code",
   "execution_count": 6,
   "metadata": {},
   "outputs": [],
   "source": [
    "def clean_text(v_text):\n",
    "    v_text = [word.lower() for word in v_text] # LOWER CASE\n",
    "    v_text = [word for word in v_text if word not in STOP_WORDS] # REMOVE STOPWORDS\n",
    "    v_text = [word for word in v_text if word not in PUNCTUATION] # REMOVE PUNCTUATION\n",
    "    v_text = [word for word in v_text if word.strip() != ''] # REMOVE WHITE SPACES\n",
    "        \n",
    "    return v_text"
   ]
  },
  {
   "cell_type": "markdown",
   "metadata": {},
   "source": [
    "# Base de Dados"
   ]
  },
  {
   "cell_type": "code",
   "execution_count": 6,
   "metadata": {},
   "outputs": [],
   "source": [
    "if exists('data/{0}'.format(DATASET_NAME)) == False:\n",
    "    !wget http://mattmahoney.net/dc/text8.zip -O data/text8.gz\n",
    "    !gunzip data/text8.gz"
   ]
  },
  {
   "cell_type": "code",
   "execution_count": 7,
   "metadata": {},
   "outputs": [
    {
     "name": "stdout",
     "output_type": "stream",
     "text": [
      "{'num_records': 1701, 'record_format': 'list of str (tokens)', 'file_size': 33182058, 'reader_code': 'https://github.com/RaRe-Technologies/gensim-data/releases/download/text8/__init__.py', 'license': 'not found', 'description': 'First 100,000,000 bytes of plain text from Wikipedia. Used for testing purposes; see wiki-english-* for proper full Wikipedia datasets.', 'checksum': '68799af40b6bda07dfa47a32612e5364', 'file_name': 'text8.gz', 'read_more': ['http://mattmahoney.net/dc/textdata.html'], 'parts': 1}\n"
     ]
    }
   ],
   "source": [
    "print(api.info(DATASET_NAME))"
   ]
  },
  {
   "cell_type": "code",
   "execution_count": 8,
   "metadata": {},
   "outputs": [
    {
     "data": {
      "text/html": [
       "<div>\n",
       "<style scoped>\n",
       "    .dataframe tbody tr th:only-of-type {\n",
       "        vertical-align: middle;\n",
       "    }\n",
       "\n",
       "    .dataframe tbody tr th {\n",
       "        vertical-align: top;\n",
       "    }\n",
       "\n",
       "    .dataframe thead th {\n",
       "        text-align: right;\n",
       "    }\n",
       "</style>\n",
       "<table border=\"1\" class=\"dataframe\">\n",
       "  <thead>\n",
       "    <tr style=\"text-align: right;\">\n",
       "      <th></th>\n",
       "      <th>num_records</th>\n",
       "      <th>record_format</th>\n",
       "      <th>file_size</th>\n",
       "      <th>reader_code</th>\n",
       "      <th>license</th>\n",
       "      <th>description</th>\n",
       "      <th>checksum</th>\n",
       "      <th>file_name</th>\n",
       "      <th>read_more</th>\n",
       "      <th>parts</th>\n",
       "    </tr>\n",
       "  </thead>\n",
       "  <tbody>\n",
       "    <tr>\n",
       "      <th>0</th>\n",
       "      <td>1701</td>\n",
       "      <td>list of str (tokens)</td>\n",
       "      <td>33182058</td>\n",
       "      <td>https://github.com/RaRe-Technologies/gensim-da...</td>\n",
       "      <td>not found</td>\n",
       "      <td>First 100,000,000 bytes of plain text from Wik...</td>\n",
       "      <td>68799af40b6bda07dfa47a32612e5364</td>\n",
       "      <td>text8.gz</td>\n",
       "      <td>http://mattmahoney.net/dc/textdata.html</td>\n",
       "      <td>1</td>\n",
       "    </tr>\n",
       "  </tbody>\n",
       "</table>\n",
       "</div>"
      ],
      "text/plain": [
       "   num_records         record_format  file_size  \\\n",
       "0         1701  list of str (tokens)   33182058   \n",
       "\n",
       "                                         reader_code    license  \\\n",
       "0  https://github.com/RaRe-Technologies/gensim-da...  not found   \n",
       "\n",
       "                                         description  \\\n",
       "0  First 100,000,000 bytes of plain text from Wik...   \n",
       "\n",
       "                           checksum file_name  \\\n",
       "0  68799af40b6bda07dfa47a32612e5364  text8.gz   \n",
       "\n",
       "                                 read_more  parts  \n",
       "0  http://mattmahoney.net/dc/textdata.html      1  "
      ]
     },
     "execution_count": 8,
     "metadata": {},
     "output_type": "execute_result"
    }
   ],
   "source": [
    "pd.DataFrame.from_dict(api.info('text8'))"
   ]
  },
  {
   "cell_type": "code",
   "execution_count": 262,
   "metadata": {
    "scrolled": true
   },
   "outputs": [
    {
     "data": {
      "text/html": [
       "<div>\n",
       "<style scoped>\n",
       "    .dataframe tbody tr th:only-of-type {\n",
       "        vertical-align: middle;\n",
       "    }\n",
       "\n",
       "    .dataframe tbody tr th {\n",
       "        vertical-align: top;\n",
       "    }\n",
       "\n",
       "    .dataframe thead th {\n",
       "        text-align: right;\n",
       "    }\n",
       "</style>\n",
       "<table border=\"1\" class=\"dataframe\">\n",
       "  <thead>\n",
       "    <tr style=\"text-align: right;\">\n",
       "      <th></th>\n",
       "      <th>num_records</th>\n",
       "      <th>file_size</th>\n",
       "      <th>description</th>\n",
       "    </tr>\n",
       "  </thead>\n",
       "  <tbody>\n",
       "    <tr>\n",
       "      <th>0</th>\n",
       "      <td>1701</td>\n",
       "      <td>33182058</td>\n",
       "      <td>First 100,000,000 bytes of plain text from Wikipedia. Used for testing purposes; see wiki-english-* for proper full Wikipedia datasets.</td>\n",
       "    </tr>\n",
       "  </tbody>\n",
       "</table>\n",
       "</div>"
      ],
      "text/plain": [
       "   num_records  file_size  \\\n",
       "0         1701   33182058   \n",
       "\n",
       "                                                                                                                               description  \n",
       "0  First 100,000,000 bytes of plain text from Wikipedia. Used for testing purposes; see wiki-english-* for proper full Wikipedia datasets.  "
      ]
     },
     "metadata": {},
     "output_type": "display_data"
    }
   ],
   "source": [
    "info = api.info('text8')\n",
    "pd.set_option('display.max_colwidth', 500)  # or 199\n",
    "df = pd.DataFrame({'num_records': [info['num_records']], 'file_size': [info['file_size']], 'description': [info['description']] })\n",
    "display(df)"
   ]
  },
  {
   "cell_type": "markdown",
   "metadata": {},
   "source": [
    "# Treinando o Modelo"
   ]
  },
  {
   "cell_type": "code",
   "execution_count": 11,
   "metadata": {},
   "outputs": [],
   "source": [
    "if exists('saved_models/cbow-100-2-5.model') == False:\n",
    "    LocalFile.train_all_models()"
   ]
  },
  {
   "cell_type": "code",
   "execution_count": 3,
   "metadata": {},
   "outputs": [],
   "source": [
    "w2v_model = Word2Vec.load('saved_models/w2v.model')"
   ]
  },
  {
   "cell_type": "code",
   "execution_count": 4,
   "metadata": {
    "scrolled": false
   },
   "outputs": [
    {
     "data": {
      "text/plain": [
       "[('bad', 0.7683312892913818),\n",
       " ('luck', 0.6691802740097046),\n",
       " ('everyone', 0.6319743394851685),\n",
       " ('excellent', 0.6215455532073975),\n",
       " ('feel', 0.6146776676177979),\n",
       " ('know', 0.6136136651039124),\n",
       " ('pretty', 0.6117483973503113),\n",
       " ('easy', 0.6068543791770935),\n",
       " ('everybody', 0.6020516753196716),\n",
       " ('things', 0.6010101437568665)]"
      ]
     },
     "execution_count": 4,
     "metadata": {},
     "output_type": "execute_result"
    }
   ],
   "source": [
    "w2v_model.wv.most_similar('good')"
   ]
  },
  {
   "cell_type": "markdown",
   "metadata": {},
   "source": [
    "# Testando e Avaliando os Modelos"
   ]
  },
  {
   "cell_type": "code",
   "execution_count": 51,
   "metadata": {},
   "outputs": [],
   "source": [
    "class question_word:\n",
    "    def __init__(self, line):\n",
    "        self.w1 = line.split(' ')[0].lower()\n",
    "        self.w2 = line.split(' ')[1].lower()\n",
    "        self.w3 = line.split(' ')[2].lower()\n",
    "        self.match = line.split(' ')[3].replace('\\n','').lower()"
   ]
  },
  {
   "cell_type": "code",
   "execution_count": 52,
   "metadata": {},
   "outputs": [
    {
     "name": "stdout",
     "output_type": "stream",
     "text": [
      "All Words : 19544\n"
     ]
    }
   ],
   "source": [
    "dict_question_words = {}\n",
    "\n",
    "with open(DATA_VALIDATION_PATH, 'r') as file:\n",
    "    all_lines = file.readlines()\n",
    "    \n",
    "words_to_evaluate = [question_word(ln) for ln in all_lines if ':' not in ln]\n",
    "print(\"All Words :\", len(words_to_evaluate))"
   ]
  },
  {
   "cell_type": "code",
   "execution_count": 264,
   "metadata": {},
   "outputs": [
    {
     "data": {
      "text/html": [
       "<div>\n",
       "<style scoped>\n",
       "    .dataframe tbody tr th:only-of-type {\n",
       "        vertical-align: middle;\n",
       "    }\n",
       "\n",
       "    .dataframe tbody tr th {\n",
       "        vertical-align: top;\n",
       "    }\n",
       "\n",
       "    .dataframe thead th {\n",
       "        text-align: right;\n",
       "    }\n",
       "</style>\n",
       "<table border=\"1\" class=\"dataframe\">\n",
       "  <thead>\n",
       "    <tr style=\"text-align: right;\">\n",
       "      <th></th>\n",
       "      <th>model</th>\n",
       "      <th>mean</th>\n",
       "      <th>std</th>\n",
       "      <th>var</th>\n",
       "      <th>num_words_miss</th>\n",
       "    </tr>\n",
       "  </thead>\n",
       "  <tbody>\n",
       "    <tr>\n",
       "      <th>2</th>\n",
       "      <td>test2</td>\n",
       "      <td>0.10</td>\n",
       "      <td>0.5</td>\n",
       "      <td>0.2</td>\n",
       "      <td>644</td>\n",
       "    </tr>\n",
       "    <tr>\n",
       "      <th>137</th>\n",
       "      <td>data1-skip_gram-500-4-15.model</td>\n",
       "      <td>0.17</td>\n",
       "      <td>0.3</td>\n",
       "      <td>0.2</td>\n",
       "      <td>644</td>\n",
       "    </tr>\n",
       "    <tr>\n",
       "      <th>186</th>\n",
       "      <td>data1-cbow-500-6-5.model</td>\n",
       "      <td>0.17</td>\n",
       "      <td>0.3</td>\n",
       "      <td>0.2</td>\n",
       "      <td>644</td>\n",
       "    </tr>\n",
       "    <tr>\n",
       "      <th>185</th>\n",
       "      <td>data2-cbow-100-2-10.model</td>\n",
       "      <td>0.17</td>\n",
       "      <td>0.3</td>\n",
       "      <td>0.2</td>\n",
       "      <td>644</td>\n",
       "    </tr>\n",
       "    <tr>\n",
       "      <th>184</th>\n",
       "      <td>data2-skip_gram-500-8-10.model</td>\n",
       "      <td>0.17</td>\n",
       "      <td>0.3</td>\n",
       "      <td>0.2</td>\n",
       "      <td>644</td>\n",
       "    </tr>\n",
       "    <tr>\n",
       "      <th>...</th>\n",
       "      <td>...</td>\n",
       "      <td>...</td>\n",
       "      <td>...</td>\n",
       "      <td>...</td>\n",
       "      <td>...</td>\n",
       "    </tr>\n",
       "    <tr>\n",
       "      <th>89</th>\n",
       "      <td>data1-skip_gram-300-2-15.model</td>\n",
       "      <td>0.17</td>\n",
       "      <td>0.3</td>\n",
       "      <td>0.2</td>\n",
       "      <td>644</td>\n",
       "    </tr>\n",
       "    <tr>\n",
       "      <th>95</th>\n",
       "      <td>all_data-cbow-300-4-5.model</td>\n",
       "      <td>0.17</td>\n",
       "      <td>0.3</td>\n",
       "      <td>0.2</td>\n",
       "      <td>644</td>\n",
       "    </tr>\n",
       "    <tr>\n",
       "      <th>3</th>\n",
       "      <td>test3</td>\n",
       "      <td>0.20</td>\n",
       "      <td>0.3</td>\n",
       "      <td>0.2</td>\n",
       "      <td>644</td>\n",
       "    </tr>\n",
       "    <tr>\n",
       "      <th>1</th>\n",
       "      <td>test1</td>\n",
       "      <td>0.20</td>\n",
       "      <td>0.4</td>\n",
       "      <td>0.2</td>\n",
       "      <td>644</td>\n",
       "    </tr>\n",
       "    <tr>\n",
       "      <th>0</th>\n",
       "      <td>test0</td>\n",
       "      <td>0.30</td>\n",
       "      <td>0.2</td>\n",
       "      <td>0.2</td>\n",
       "      <td>644</td>\n",
       "    </tr>\n",
       "  </tbody>\n",
       "</table>\n",
       "<p>275 rows × 5 columns</p>\n",
       "</div>"
      ],
      "text/plain": [
       "                              model  mean  std  var  num_words_miss\n",
       "2                             test2  0.10  0.5  0.2             644\n",
       "137  data1-skip_gram-500-4-15.model  0.17  0.3  0.2             644\n",
       "186        data1-cbow-500-6-5.model  0.17  0.3  0.2             644\n",
       "185       data2-cbow-100-2-10.model  0.17  0.3  0.2             644\n",
       "184  data2-skip_gram-500-8-10.model  0.17  0.3  0.2             644\n",
       "..                              ...   ...  ...  ...             ...\n",
       "89   data1-skip_gram-300-2-15.model  0.17  0.3  0.2             644\n",
       "95      all_data-cbow-300-4-5.model  0.17  0.3  0.2             644\n",
       "3                             test3  0.20  0.3  0.2             644\n",
       "1                             test1  0.20  0.4  0.2             644\n",
       "0                             test0  0.30  0.2  0.2             644\n",
       "\n",
       "[275 rows x 5 columns]"
      ]
     },
     "metadata": {},
     "output_type": "display_data"
    }
   ],
   "source": [
    "df = pd.read_csv('data/models_values.csv', sep=',')\n",
    "df = df.sort_values(by=[\"mean\"], ascending=[True]) \n",
    "display(df)\n"
   ]
  },
  {
   "cell_type": "code",
   "execution_count": 126,
   "metadata": {},
   "outputs": [
    {
     "data": {
      "text/plain": [
       "2      0.10\n",
       "137    0.17\n",
       "186    0.17\n",
       "185    0.17\n",
       "184    0.17\n",
       "       ... \n",
       "89     0.17\n",
       "95     0.17\n",
       "3      0.20\n",
       "1      0.20\n",
       "0      0.30\n",
       "Name: mean, Length: 275, dtype: float64"
      ]
     },
     "execution_count": 126,
     "metadata": {},
     "output_type": "execute_result"
    }
   ],
   "source": [
    "all_models_name = df['model']\n",
    "df['mean']"
   ]
  },
  {
   "cell_type": "markdown",
   "metadata": {},
   "source": [
    "# AVALIANDO GRÁFICOS"
   ]
  },
  {
   "cell_type": "markdown",
   "metadata": {},
   "source": [
    "## Window Size"
   ]
  },
  {
   "cell_type": "code",
   "execution_count": 139,
   "metadata": {},
   "outputs": [],
   "source": [
    "def get_result_models(v_names, df, dataset, cbow=True):\n",
    "    result = []\n",
    "    \n",
    "    dataset_name = 'data1' if dataset == 0 else 'data2' if dataset == 1 else 'all_data'\n",
    "    alg = 'cbow' if cbow == True else 'skip_gram'\n",
    "    \n",
    "    for m in v_names:\n",
    "        name = '{0}-{1}-{2}.model'.format(dataset_name, alg, m)\n",
    "        result.append(df.loc[df['model'] == name].iloc[0]['mean'])\n",
    "    \n",
    "    return result        "
   ]
  },
  {
   "cell_type": "code",
   "execution_count": 137,
   "metadata": {},
   "outputs": [
    {
     "name": "stdout",
     "output_type": "stream",
     "text": [
      "data1-cbow-100-4-5.model\n"
     ]
    },
    {
     "data": {
      "text/plain": [
       "[0.17]"
      ]
     },
     "execution_count": 137,
     "metadata": {},
     "output_type": "execute_result"
    }
   ],
   "source": [
    "get_result_models(['100-4-5'], df, 0, True)"
   ]
  },
  {
   "cell_type": "code",
   "execution_count": 144,
   "metadata": {},
   "outputs": [
    {
     "name": "stdout",
     "output_type": "stream",
     "text": [
      "[0.17, 0.17, 0.17, 0.17, 0.17]\n",
      "[0.17, 0.17, 0.17, 0.17, 0.17]\n"
     ]
    }
   ],
   "source": [
    "v1 = get_result_models(['100-2-5', '100-4-5', '100-6-5', '100-8-5', '100-10-5'], df, 0, True)\n",
    "v2 = get_result_models(['300-2-5', '300-4-5', '300-6-5', '300-8-5', '300-10-5'], df, 1, True)\n",
    "v3 = get_result_models(['500-2-5', '500-4-5', '500-6-5', '500-8-5', '500-10-5'], df, 2, True)\n"
   ]
  },
  {
   "cell_type": "markdown",
   "metadata": {},
   "source": [
    "## CBOW"
   ]
  },
  {
   "cell_type": "code",
   "execution_count": 155,
   "metadata": {},
   "outputs": [
    {
     "data": {
      "image/png": "[encoded data removed]",
      "text/plain": [
       "<Figure size 432x288 with 1 Axes>"
      ]
     },
     "metadata": {
      "needs_background": "light"
     },
     "output_type": "display_data"
    }
   ],
   "source": [
    "window_size = [2,4,6,8,10]\n",
    "#results_1 = [38,37,30,29,32]\n",
    "#results_2 = [35,30,28,27,25]\n",
    "results_1 = [0.17, 0.17, 0.17, 0.17, 0.17]\n",
    "results_2 = [0.17, 0.17, 0.17, 0.17, 0.17]\n",
    "%matplotlib inline\n",
    "\n",
    "plt.plot(window_size, results_1, color='red', marker='o')\n",
    "plt.plot(window_size, results_2, color='blue', marker='o')\n",
    "plt.title('Unemployment Rate Vs Year', fontsize=14)\n",
    "plt.xlabel('Year', fontsize=14)\n",
    "plt.ylabel('Unemployment Rate', fontsize=14)\n",
    "plt.grid(True)\n",
    "plt.show()\n",
    "plt.close() "
   ]
  },
  {
   "cell_type": "code",
   "execution_count": 253,
   "metadata": {},
   "outputs": [
    {
     "data": {
      "image/png": "[encoded data removed]",
      "text/plain": [
       "<Figure size 936x216 with 3 Axes>"
      ]
     },
     "metadata": {
      "needs_background": "light"
     },
     "output_type": "display_data"
    },
    {
     "data": {
      "image/png": "[encoded data removed]",
      "text/plain": [
       "<Figure size 936x216 with 3 Axes>"
      ]
     },
     "metadata": {
      "needs_background": "light"
     },
     "output_type": "display_data"
    }
   ],
   "source": [
    "import numpy as np\n",
    "import matplotlib.pyplot as plt\n",
    "\n",
    "for i in [0,2]:\n",
    "    window_size = [2,4,6,8,10]\n",
    "    results_1 = [38,37,30,29,32]\n",
    "    results_2 = [35,30,28,27,25]\n",
    "\n",
    "    x1 = np.linspace(0.0, 5.0)\n",
    "    x2 = np.linspace(0.0, 2.0)\n",
    "    y1 = np.cos(2 * np.pi * x1) * np.exp(-x1)\n",
    "    y2 = np.cos(2 * np.pi * x2)\n",
    "\n",
    "    fig, axes = plt.subplots(nrows=1, ncols=3, figsize=(13, 3))\n",
    "\n",
    "    axes[0].plot(window_size, results_1, color='red', marker='o', label='Dim 100')\n",
    "    axes[0].plot(window_size, results_2, color='blue', marker='o', label='Dim 300')\n",
    "    axes[1].plot(window_size, results_2, color='green', marker='o', label='Dim 200')\n",
    "    axes[2].plot(window_size, results_2, color='green', marker='o')\n",
    "    \n",
    "    fig.suptitle('This is a somewhat long figure title', fontsize=18, y=1.2)\n",
    "    plt.title('Unemployment Rate Vs Year', fontsize=14)\n",
    "    axes[0].set_xlabel('Year', fontsize=14)\n",
    "    axes[0].set_ylabel('Unemployment Rate', fontsize=14)\n",
    "    \n",
    "    axes[2].set_ylim([20, 50])\n",
    "    axes[0].grid(True)\n",
    "    axes[1].grid(True)\n",
    "    axes[2].grid(True)\n",
    "\n",
    "    #axes[2].legend(loc=\"best\")\n",
    "    \n",
    "    \n",
    "    fig.legend(loc='center', bbox_to_anchor=(0.5, 1), fancybox=True, ncol=5)\n",
    "    fig.tight_layout()\n",
    "    fig.subplots_adjust(right=0.75)   \n",
    "\n",
    "    fig.tight_layout()"
   ]
  },
  {
   "cell_type": "markdown",
   "metadata": {},
   "source": [
    "# Conclusão"
   ]
  },
  {
   "cell_type": "markdown",
   "metadata": {},
   "source": [
    "### OLD"
   ]
  },
  {
   "cell_type": "code",
   "execution_count": 2,
   "metadata": {},
   "outputs": [],
   "source": [
    "dataset = api.load(\"text8\")\n",
    "\n",
    "data = []\n",
    "for word in dataset:\n",
    "    data.append(word)"
   ]
  },
  {
   "cell_type": "code",
   "execution_count": 3,
   "metadata": {},
   "outputs": [],
   "source": [
    "logging.basicConfig(format='%(asctime)s : %(levelname)s : %(message)s', level=logging.INFO)"
   ]
  },
  {
   "cell_type": "code",
   "execution_count": 4,
   "metadata": {},
   "outputs": [
    {
     "name": "stderr",
     "output_type": "stream",
     "text": [
      "2021-12-07 22:05:35,798 : INFO : collecting all words and their counts\n",
      "2021-12-07 22:05:35,799 : INFO : PROGRESS: at sentence #0, processed 0 words, keeping 0 word types\n",
      "2021-12-07 22:05:37,639 : INFO : collected 253854 word types from a corpus of 17005207 raw words and 1701 sentences\n",
      "2021-12-07 22:05:37,639 : INFO : Creating a fresh vocabulary\n",
      "2021-12-07 22:05:38,319 : INFO : Word2Vec lifecycle event {'msg': 'effective_min_count=1 retains 253854 unique words (100.0%% of original 253854, drops 0)', 'datetime': '2021-12-07T22:05:38.319828', 'gensim': '4.1.2', 'python': '3.6.9 (default, Jan 26 2021, 15:33:00) \\n[GCC 8.4.0]', 'platform': 'Linux-5.4.0-90-generic-x86_64-with-Ubuntu-18.04-bionic', 'event': 'prepare_vocab'}\n",
      "2021-12-07 22:05:38,320 : INFO : Word2Vec lifecycle event {'msg': 'effective_min_count=1 leaves 17005207 word corpus (100.0%% of original 17005207, drops 0)', 'datetime': '2021-12-07T22:05:38.320268', 'gensim': '4.1.2', 'python': '3.6.9 (default, Jan 26 2021, 15:33:00) \\n[GCC 8.4.0]', 'platform': 'Linux-5.4.0-90-generic-x86_64-with-Ubuntu-18.04-bionic', 'event': 'prepare_vocab'}\n",
      "2021-12-07 22:05:39,431 : INFO : deleting the raw counts dictionary of 253854 items\n",
      "2021-12-07 22:05:39,482 : INFO : sample=0.001 downsamples 36 most-common words\n",
      "2021-12-07 22:05:39,482 : INFO : Word2Vec lifecycle event {'msg': 'downsampling leaves estimated 12819131.785650097 word corpus (75.4%% of prior 17005207)', 'datetime': '2021-12-07T22:05:39.482808', 'gensim': '4.1.2', 'python': '3.6.9 (default, Jan 26 2021, 15:33:00) \\n[GCC 8.4.0]', 'platform': 'Linux-5.4.0-90-generic-x86_64-with-Ubuntu-18.04-bionic', 'event': 'prepare_vocab'}\n",
      "2021-12-07 22:05:41,400 : INFO : estimated required memory for 253854 words and 300 dimensions: 736176600 bytes\n",
      "2021-12-07 22:05:41,400 : INFO : resetting layer weights\n",
      "2021-12-07 22:05:41,792 : INFO : Word2Vec lifecycle event {'update': False, 'trim_rule': 'None', 'datetime': '2021-12-07T22:05:41.792628', 'gensim': '4.1.2', 'python': '3.6.9 (default, Jan 26 2021, 15:33:00) \\n[GCC 8.4.0]', 'platform': 'Linux-5.4.0-90-generic-x86_64-with-Ubuntu-18.04-bionic', 'event': 'build_vocab'}\n",
      "2021-12-07 22:05:41,793 : INFO : Word2Vec lifecycle event {'msg': 'training model with 12 workers on 253854 vocabulary and 300 features, using sg=0 hs=0 sample=0.001 negative=5 window=6 shrink_windows=True', 'datetime': '2021-12-07T22:05:41.793126', 'gensim': '4.1.2', 'python': '3.6.9 (default, Jan 26 2021, 15:33:00) \\n[GCC 8.4.0]', 'platform': 'Linux-5.4.0-90-generic-x86_64-with-Ubuntu-18.04-bionic', 'event': 'train'}\n",
      "2021-12-07 22:05:42,800 : INFO : EPOCH 1 - PROGRESS: at 10.41% examples, 1321990 words/s, in_qsize 21, out_qsize 2\n",
      "2021-12-07 22:05:43,803 : INFO : EPOCH 1 - PROGRESS: at 22.81% examples, 1452384 words/s, in_qsize 22, out_qsize 1\n",
      "2021-12-07 22:05:44,806 : INFO : EPOCH 1 - PROGRESS: at 34.74% examples, 1482092 words/s, in_qsize 21, out_qsize 2\n",
      "2021-12-07 22:05:45,821 : INFO : EPOCH 1 - PROGRESS: at 44.50% examples, 1419866 words/s, in_qsize 21, out_qsize 2\n",
      "2021-12-07 22:05:46,829 : INFO : EPOCH 1 - PROGRESS: at 55.44% examples, 1416382 words/s, in_qsize 23, out_qsize 0\n",
      "2021-12-07 22:05:47,844 : INFO : EPOCH 1 - PROGRESS: at 67.84% examples, 1441761 words/s, in_qsize 21, out_qsize 2\n",
      "2021-12-07 22:05:48,846 : INFO : EPOCH 1 - PROGRESS: at 79.78% examples, 1451749 words/s, in_qsize 22, out_qsize 1\n",
      "2021-12-07 22:05:49,849 : INFO : EPOCH 1 - PROGRESS: at 92.18% examples, 1468250 words/s, in_qsize 23, out_qsize 0\n",
      "2021-12-07 22:05:50,449 : INFO : worker thread finished; awaiting finish of 11 more threads\n",
      "2021-12-07 22:05:50,455 : INFO : worker thread finished; awaiting finish of 10 more threads\n",
      "2021-12-07 22:05:50,456 : INFO : worker thread finished; awaiting finish of 9 more threads\n",
      "2021-12-07 22:05:50,457 : INFO : worker thread finished; awaiting finish of 8 more threads\n",
      "2021-12-07 22:05:50,457 : INFO : worker thread finished; awaiting finish of 7 more threads\n",
      "2021-12-07 22:05:50,473 : INFO : worker thread finished; awaiting finish of 6 more threads\n",
      "2021-12-07 22:05:50,474 : INFO : worker thread finished; awaiting finish of 5 more threads\n",
      "2021-12-07 22:05:50,475 : INFO : worker thread finished; awaiting finish of 4 more threads\n",
      "2021-12-07 22:05:50,477 : INFO : worker thread finished; awaiting finish of 3 more threads\n",
      "2021-12-07 22:05:50,486 : INFO : worker thread finished; awaiting finish of 2 more threads\n",
      "2021-12-07 22:05:50,490 : INFO : worker thread finished; awaiting finish of 1 more threads\n",
      "2021-12-07 22:05:50,493 : INFO : worker thread finished; awaiting finish of 0 more threads\n",
      "2021-12-07 22:05:50,493 : INFO : EPOCH - 1 : training on 17005207 raw words (12818917 effective words) took 8.7s, 1474020 effective words/s\n",
      "2021-12-07 22:05:51,507 : INFO : EPOCH 2 - PROGRESS: at 12.05% examples, 1523415 words/s, in_qsize 24, out_qsize 0\n",
      "2021-12-07 22:05:52,517 : INFO : EPOCH 2 - PROGRESS: at 24.51% examples, 1552390 words/s, in_qsize 24, out_qsize 0\n",
      "2021-12-07 22:05:53,520 : INFO : EPOCH 2 - PROGRESS: at 36.74% examples, 1561349 words/s, in_qsize 22, out_qsize 1\n",
      "2021-12-07 22:05:54,522 : INFO : EPOCH 2 - PROGRESS: at 49.03% examples, 1565418 words/s, in_qsize 23, out_qsize 0\n",
      "2021-12-07 22:05:55,545 : INFO : EPOCH 2 - PROGRESS: at 61.32% examples, 1561902 words/s, in_qsize 20, out_qsize 3\n",
      "2021-12-07 22:05:56,550 : INFO : EPOCH 2 - PROGRESS: at 73.78% examples, 1566977 words/s, in_qsize 23, out_qsize 0\n",
      "2021-12-07 22:05:57,555 : INFO : EPOCH 2 - PROGRESS: at 86.18% examples, 1566527 words/s, in_qsize 23, out_qsize 0\n",
      "2021-12-07 22:05:58,572 : INFO : EPOCH 2 - PROGRESS: at 96.53% examples, 1533107 words/s, in_qsize 23, out_qsize 0\n",
      "2021-12-07 22:05:58,806 : INFO : worker thread finished; awaiting finish of 11 more threads\n",
      "2021-12-07 22:05:58,812 : INFO : worker thread finished; awaiting finish of 10 more threads\n",
      "2021-12-07 22:05:58,814 : INFO : worker thread finished; awaiting finish of 9 more threads\n",
      "2021-12-07 22:05:58,818 : INFO : worker thread finished; awaiting finish of 8 more threads\n",
      "2021-12-07 22:05:58,821 : INFO : worker thread finished; awaiting finish of 7 more threads\n",
      "2021-12-07 22:05:58,823 : INFO : worker thread finished; awaiting finish of 6 more threads\n",
      "2021-12-07 22:05:58,846 : INFO : worker thread finished; awaiting finish of 5 more threads\n",
      "2021-12-07 22:05:58,847 : INFO : worker thread finished; awaiting finish of 4 more threads\n",
      "2021-12-07 22:05:58,853 : INFO : worker thread finished; awaiting finish of 3 more threads\n",
      "2021-12-07 22:05:58,856 : INFO : worker thread finished; awaiting finish of 2 more threads\n",
      "2021-12-07 22:05:58,864 : INFO : worker thread finished; awaiting finish of 1 more threads\n",
      "2021-12-07 22:05:58,866 : INFO : worker thread finished; awaiting finish of 0 more threads\n",
      "2021-12-07 22:05:58,866 : INFO : EPOCH - 2 : training on 17005207 raw words (12819225 effective words) took 8.4s, 1531736 effective words/s\n",
      "2021-12-07 22:05:59,876 : INFO : EPOCH 3 - PROGRESS: at 12.17% examples, 1542709 words/s, in_qsize 22, out_qsize 1\n",
      "2021-12-07 22:06:00,888 : INFO : EPOCH 3 - PROGRESS: at 23.34% examples, 1478358 words/s, in_qsize 23, out_qsize 0\n",
      "2021-12-07 22:06:01,892 : INFO : EPOCH 3 - PROGRESS: at 35.63% examples, 1514217 words/s, in_qsize 21, out_qsize 2\n",
      "2021-12-07 22:06:02,900 : INFO : EPOCH 3 - PROGRESS: at 48.03% examples, 1531318 words/s, in_qsize 20, out_qsize 3\n",
      "2021-12-07 22:06:03,915 : INFO : EPOCH 3 - PROGRESS: at 59.49% examples, 1516179 words/s, in_qsize 24, out_qsize 1\n",
      "2021-12-07 22:06:04,916 : INFO : EPOCH 3 - PROGRESS: at 71.08% examples, 1511158 words/s, in_qsize 22, out_qsize 1\n",
      "2021-12-07 22:06:05,924 : INFO : EPOCH 3 - PROGRESS: at 82.83% examples, 1506409 words/s, in_qsize 22, out_qsize 1\n",
      "2021-12-07 22:06:06,938 : INFO : EPOCH 3 - PROGRESS: at 94.65% examples, 1504559 words/s, in_qsize 21, out_qsize 2\n",
      "2021-12-07 22:06:07,317 : INFO : worker thread finished; awaiting finish of 11 more threads\n",
      "2021-12-07 22:06:07,318 : INFO : worker thread finished; awaiting finish of 10 more threads\n",
      "2021-12-07 22:06:07,321 : INFO : worker thread finished; awaiting finish of 9 more threads\n",
      "2021-12-07 22:06:07,351 : INFO : worker thread finished; awaiting finish of 8 more threads\n",
      "2021-12-07 22:06:07,355 : INFO : worker thread finished; awaiting finish of 7 more threads\n"
     ]
    },
    {
     "name": "stderr",
     "output_type": "stream",
     "text": [
      "2021-12-07 22:06:07,356 : INFO : worker thread finished; awaiting finish of 6 more threads\n",
      "2021-12-07 22:06:07,375 : INFO : worker thread finished; awaiting finish of 5 more threads\n",
      "2021-12-07 22:06:07,376 : INFO : worker thread finished; awaiting finish of 4 more threads\n",
      "2021-12-07 22:06:07,377 : INFO : worker thread finished; awaiting finish of 3 more threads\n",
      "2021-12-07 22:06:07,380 : INFO : worker thread finished; awaiting finish of 2 more threads\n",
      "2021-12-07 22:06:07,392 : INFO : worker thread finished; awaiting finish of 1 more threads\n",
      "2021-12-07 22:06:07,393 : INFO : worker thread finished; awaiting finish of 0 more threads\n",
      "2021-12-07 22:06:07,394 : INFO : EPOCH - 3 : training on 17005207 raw words (12819345 effective words) took 8.5s, 1504046 effective words/s\n",
      "2021-12-07 22:06:08,398 : INFO : EPOCH 4 - PROGRESS: at 10.58% examples, 1347375 words/s, in_qsize 22, out_qsize 1\n",
      "2021-12-07 22:06:09,405 : INFO : EPOCH 4 - PROGRESS: at 22.69% examples, 1444072 words/s, in_qsize 23, out_qsize 0\n",
      "2021-12-07 22:06:10,428 : INFO : EPOCH 4 - PROGRESS: at 34.51% examples, 1461921 words/s, in_qsize 21, out_qsize 2\n",
      "2021-12-07 22:06:11,445 : INFO : EPOCH 4 - PROGRESS: at 46.50% examples, 1476132 words/s, in_qsize 23, out_qsize 0\n",
      "2021-12-07 22:06:12,449 : INFO : EPOCH 4 - PROGRESS: at 58.44% examples, 1487242 words/s, in_qsize 21, out_qsize 2\n",
      "2021-12-07 22:06:13,456 : INFO : EPOCH 4 - PROGRESS: at 70.02% examples, 1485493 words/s, in_qsize 24, out_qsize 0\n",
      "2021-12-07 22:06:14,459 : INFO : EPOCH 4 - PROGRESS: at 81.31% examples, 1476963 words/s, in_qsize 22, out_qsize 1\n",
      "2021-12-07 22:06:15,463 : INFO : EPOCH 4 - PROGRESS: at 92.77% examples, 1475458 words/s, in_qsize 23, out_qsize 0\n",
      "2021-12-07 22:06:16,066 : INFO : worker thread finished; awaiting finish of 11 more threads\n",
      "2021-12-07 22:06:16,067 : INFO : worker thread finished; awaiting finish of 10 more threads\n",
      "2021-12-07 22:06:16,070 : INFO : worker thread finished; awaiting finish of 9 more threads\n",
      "2021-12-07 22:06:16,073 : INFO : worker thread finished; awaiting finish of 8 more threads\n",
      "2021-12-07 22:06:16,073 : INFO : worker thread finished; awaiting finish of 7 more threads\n",
      "2021-12-07 22:06:16,088 : INFO : worker thread finished; awaiting finish of 6 more threads\n",
      "2021-12-07 22:06:16,089 : INFO : worker thread finished; awaiting finish of 5 more threads\n",
      "2021-12-07 22:06:16,091 : INFO : worker thread finished; awaiting finish of 4 more threads\n",
      "2021-12-07 22:06:16,096 : INFO : worker thread finished; awaiting finish of 3 more threads\n",
      "2021-12-07 22:06:16,108 : INFO : worker thread finished; awaiting finish of 2 more threads\n",
      "2021-12-07 22:06:16,109 : INFO : worker thread finished; awaiting finish of 1 more threads\n",
      "2021-12-07 22:06:16,109 : INFO : worker thread finished; awaiting finish of 0 more threads\n",
      "2021-12-07 22:06:16,110 : INFO : EPOCH - 4 : training on 17005207 raw words (12820508 effective words) took 8.7s, 1471568 effective words/s\n",
      "2021-12-07 22:06:17,134 : INFO : EPOCH 5 - PROGRESS: at 10.88% examples, 1357957 words/s, in_qsize 19, out_qsize 4\n",
      "2021-12-07 22:06:18,137 : INFO : EPOCH 5 - PROGRESS: at 20.58% examples, 1298039 words/s, in_qsize 22, out_qsize 1\n",
      "2021-12-07 22:06:19,140 : INFO : EPOCH 5 - PROGRESS: at 29.10% examples, 1231730 words/s, in_qsize 24, out_qsize 2\n",
      "2021-12-07 22:06:20,156 : INFO : EPOCH 5 - PROGRESS: at 37.74% examples, 1199102 words/s, in_qsize 22, out_qsize 1\n",
      "2021-12-07 22:06:21,160 : INFO : EPOCH 5 - PROGRESS: at 48.38% examples, 1231861 words/s, in_qsize 23, out_qsize 0\n",
      "2021-12-07 22:06:22,166 : INFO : EPOCH 5 - PROGRESS: at 59.14% examples, 1256342 words/s, in_qsize 22, out_qsize 1\n",
      "2021-12-07 22:06:23,180 : INFO : EPOCH 5 - PROGRESS: at 71.37% examples, 1298489 words/s, in_qsize 24, out_qsize 2\n",
      "2021-12-07 22:06:24,186 : INFO : EPOCH 5 - PROGRESS: at 82.42% examples, 1309878 words/s, in_qsize 24, out_qsize 0\n",
      "2021-12-07 22:06:25,187 : INFO : EPOCH 5 - PROGRESS: at 92.59% examples, 1309000 words/s, in_qsize 23, out_qsize 0\n",
      "2021-12-07 22:06:25,875 : INFO : worker thread finished; awaiting finish of 11 more threads\n",
      "2021-12-07 22:06:25,876 : INFO : worker thread finished; awaiting finish of 10 more threads\n",
      "2021-12-07 22:06:25,899 : INFO : worker thread finished; awaiting finish of 9 more threads\n",
      "2021-12-07 22:06:25,909 : INFO : worker thread finished; awaiting finish of 8 more threads\n",
      "2021-12-07 22:06:25,911 : INFO : worker thread finished; awaiting finish of 7 more threads\n",
      "2021-12-07 22:06:25,918 : INFO : worker thread finished; awaiting finish of 6 more threads\n",
      "2021-12-07 22:06:25,920 : INFO : worker thread finished; awaiting finish of 5 more threads\n",
      "2021-12-07 22:06:25,940 : INFO : worker thread finished; awaiting finish of 4 more threads\n",
      "2021-12-07 22:06:25,944 : INFO : worker thread finished; awaiting finish of 3 more threads\n",
      "2021-12-07 22:06:25,948 : INFO : worker thread finished; awaiting finish of 2 more threads\n",
      "2021-12-07 22:06:25,951 : INFO : worker thread finished; awaiting finish of 1 more threads\n",
      "2021-12-07 22:06:25,952 : INFO : worker thread finished; awaiting finish of 0 more threads\n",
      "2021-12-07 22:06:25,953 : INFO : EPOCH - 5 : training on 17005207 raw words (12819815 effective words) took 9.8s, 1302907 effective words/s\n",
      "2021-12-07 22:06:26,963 : INFO : EPOCH 6 - PROGRESS: at 9.11% examples, 1160675 words/s, in_qsize 22, out_qsize 1\n",
      "2021-12-07 22:06:27,983 : INFO : EPOCH 6 - PROGRESS: at 18.81% examples, 1188567 words/s, in_qsize 21, out_qsize 3\n",
      "2021-12-07 22:06:29,001 : INFO : EPOCH 6 - PROGRESS: at 30.51% examples, 1287217 words/s, in_qsize 24, out_qsize 1\n",
      "2021-12-07 22:06:30,004 : INFO : EPOCH 6 - PROGRESS: at 39.51% examples, 1255185 words/s, in_qsize 21, out_qsize 2\n",
      "2021-12-07 22:06:31,009 : INFO : EPOCH 6 - PROGRESS: at 51.68% examples, 1315628 words/s, in_qsize 24, out_qsize 1\n",
      "2021-12-07 22:06:32,013 : INFO : EPOCH 6 - PROGRESS: at 63.84% examples, 1356496 words/s, in_qsize 24, out_qsize 2\n",
      "2021-12-07 22:06:33,037 : INFO : EPOCH 6 - PROGRESS: at 74.84% examples, 1359368 words/s, in_qsize 21, out_qsize 2\n",
      "2021-12-07 22:06:34,040 : INFO : EPOCH 6 - PROGRESS: at 84.89% examples, 1347999 words/s, in_qsize 23, out_qsize 0\n",
      "2021-12-07 22:06:35,055 : INFO : EPOCH 6 - PROGRESS: at 95.65% examples, 1349109 words/s, in_qsize 22, out_qsize 1\n",
      "2021-12-07 22:06:35,389 : INFO : worker thread finished; awaiting finish of 11 more threads\n",
      "2021-12-07 22:06:35,395 : INFO : worker thread finished; awaiting finish of 10 more threads\n",
      "2021-12-07 22:06:35,399 : INFO : worker thread finished; awaiting finish of 9 more threads\n",
      "2021-12-07 22:06:35,401 : INFO : worker thread finished; awaiting finish of 8 more threads\n",
      "2021-12-07 22:06:35,401 : INFO : worker thread finished; awaiting finish of 7 more threads\n",
      "2021-12-07 22:06:35,407 : INFO : worker thread finished; awaiting finish of 6 more threads\n",
      "2021-12-07 22:06:35,416 : INFO : worker thread finished; awaiting finish of 5 more threads\n",
      "2021-12-07 22:06:35,418 : INFO : worker thread finished; awaiting finish of 4 more threads\n",
      "2021-12-07 22:06:35,424 : INFO : worker thread finished; awaiting finish of 3 more threads\n",
      "2021-12-07 22:06:35,430 : INFO : worker thread finished; awaiting finish of 2 more threads\n",
      "2021-12-07 22:06:35,435 : INFO : worker thread finished; awaiting finish of 1 more threads\n",
      "2021-12-07 22:06:35,435 : INFO : worker thread finished; awaiting finish of 0 more threads\n",
      "2021-12-07 22:06:35,436 : INFO : EPOCH - 6 : training on 17005207 raw words (12819769 effective words) took 9.5s, 1353210 effective words/s\n",
      "2021-12-07 22:06:36,451 : INFO : EPOCH 7 - PROGRESS: at 11.52% examples, 1455258 words/s, in_qsize 21, out_qsize 2\n",
      "2021-12-07 22:06:37,454 : INFO : EPOCH 7 - PROGRESS: at 23.81% examples, 1513680 words/s, in_qsize 22, out_qsize 1\n",
      "2021-12-07 22:06:38,458 : INFO : EPOCH 7 - PROGRESS: at 34.45% examples, 1466720 words/s, in_qsize 24, out_qsize 0\n",
      "2021-12-07 22:06:39,466 : INFO : EPOCH 7 - PROGRESS: at 45.03% examples, 1437218 words/s, in_qsize 24, out_qsize 0\n",
      "2021-12-07 22:06:40,489 : INFO : EPOCH 7 - PROGRESS: at 55.44% examples, 1412698 words/s, in_qsize 23, out_qsize 0\n",
      "2021-12-07 22:06:41,497 : INFO : EPOCH 7 - PROGRESS: at 67.55% examples, 1433948 words/s, in_qsize 23, out_qsize 0\n",
      "2021-12-07 22:06:42,498 : INFO : EPOCH 7 - PROGRESS: at 79.54% examples, 1446235 words/s, in_qsize 21, out_qsize 2\n"
     ]
    },
    {
     "name": "stderr",
     "output_type": "stream",
     "text": [
      "2021-12-07 22:06:43,503 : INFO : EPOCH 7 - PROGRESS: at 91.65% examples, 1458540 words/s, in_qsize 21, out_qsize 2\n",
      "2021-12-07 22:06:44,138 : INFO : worker thread finished; awaiting finish of 11 more threads\n",
      "2021-12-07 22:06:44,151 : INFO : worker thread finished; awaiting finish of 10 more threads\n",
      "2021-12-07 22:06:44,154 : INFO : worker thread finished; awaiting finish of 9 more threads\n",
      "2021-12-07 22:06:44,155 : INFO : worker thread finished; awaiting finish of 8 more threads\n",
      "2021-12-07 22:06:44,158 : INFO : worker thread finished; awaiting finish of 7 more threads\n",
      "2021-12-07 22:06:44,169 : INFO : worker thread finished; awaiting finish of 6 more threads\n",
      "2021-12-07 22:06:44,175 : INFO : worker thread finished; awaiting finish of 5 more threads\n",
      "2021-12-07 22:06:44,181 : INFO : worker thread finished; awaiting finish of 4 more threads\n",
      "2021-12-07 22:06:44,183 : INFO : worker thread finished; awaiting finish of 3 more threads\n",
      "2021-12-07 22:06:44,189 : INFO : worker thread finished; awaiting finish of 2 more threads\n",
      "2021-12-07 22:06:44,192 : INFO : worker thread finished; awaiting finish of 1 more threads\n",
      "2021-12-07 22:06:44,198 : INFO : worker thread finished; awaiting finish of 0 more threads\n",
      "2021-12-07 22:06:44,198 : INFO : EPOCH - 7 : training on 17005207 raw words (12819571 effective words) took 8.8s, 1464051 effective words/s\n",
      "2021-12-07 22:06:45,210 : INFO : EPOCH 8 - PROGRESS: at 10.17% examples, 1292655 words/s, in_qsize 22, out_qsize 1\n",
      "2021-12-07 22:06:46,210 : INFO : EPOCH 8 - PROGRESS: at 20.52% examples, 1307862 words/s, in_qsize 23, out_qsize 0\n",
      "2021-12-07 22:06:47,216 : INFO : EPOCH 8 - PROGRESS: at 32.51% examples, 1386550 words/s, in_qsize 22, out_qsize 2\n",
      "2021-12-07 22:06:48,218 : INFO : EPOCH 8 - PROGRESS: at 44.68% examples, 1430893 words/s, in_qsize 24, out_qsize 0\n",
      "2021-12-07 22:06:49,233 : INFO : EPOCH 8 - PROGRESS: at 56.91% examples, 1456093 words/s, in_qsize 23, out_qsize 0\n",
      "2021-12-07 22:06:50,247 : INFO : EPOCH 8 - PROGRESS: at 67.84% examples, 1443971 words/s, in_qsize 23, out_qsize 0\n",
      "2021-12-07 22:06:51,259 : INFO : EPOCH 8 - PROGRESS: at 80.19% examples, 1458989 words/s, in_qsize 22, out_qsize 1\n",
      "2021-12-07 22:06:52,272 : INFO : EPOCH 8 - PROGRESS: at 89.48% examples, 1423799 words/s, in_qsize 23, out_qsize 0\n",
      "2021-12-07 22:06:53,238 : INFO : worker thread finished; awaiting finish of 11 more threads\n",
      "2021-12-07 22:06:53,244 : INFO : worker thread finished; awaiting finish of 10 more threads\n",
      "2021-12-07 22:06:53,245 : INFO : worker thread finished; awaiting finish of 9 more threads\n",
      "2021-12-07 22:06:53,245 : INFO : worker thread finished; awaiting finish of 8 more threads\n",
      "2021-12-07 22:06:53,246 : INFO : worker thread finished; awaiting finish of 7 more threads\n",
      "2021-12-07 22:06:53,252 : INFO : worker thread finished; awaiting finish of 6 more threads\n",
      "2021-12-07 22:06:53,258 : INFO : worker thread finished; awaiting finish of 5 more threads\n",
      "2021-12-07 22:06:53,260 : INFO : worker thread finished; awaiting finish of 4 more threads\n",
      "2021-12-07 22:06:53,261 : INFO : worker thread finished; awaiting finish of 3 more threads\n",
      "2021-12-07 22:06:53,264 : INFO : worker thread finished; awaiting finish of 2 more threads\n",
      "2021-12-07 22:06:53,275 : INFO : EPOCH 8 - PROGRESS: at 99.94% examples, 1413138 words/s, in_qsize 1, out_qsize 1\n",
      "2021-12-07 22:06:53,276 : INFO : worker thread finished; awaiting finish of 1 more threads\n",
      "2021-12-07 22:06:53,281 : INFO : worker thread finished; awaiting finish of 0 more threads\n",
      "2021-12-07 22:06:53,282 : INFO : EPOCH - 8 : training on 17005207 raw words (12822095 effective words) took 9.1s, 1412891 effective words/s\n",
      "2021-12-07 22:06:54,294 : INFO : EPOCH 9 - PROGRESS: at 11.29% examples, 1425001 words/s, in_qsize 24, out_qsize 3\n",
      "2021-12-07 22:06:55,302 : INFO : EPOCH 9 - PROGRESS: at 21.75% examples, 1377745 words/s, in_qsize 23, out_qsize 0\n",
      "2021-12-07 22:06:56,302 : INFO : EPOCH 9 - PROGRESS: at 32.80% examples, 1395614 words/s, in_qsize 23, out_qsize 0\n",
      "2021-12-07 22:06:57,308 : INFO : EPOCH 9 - PROGRESS: at 44.97% examples, 1435790 words/s, in_qsize 23, out_qsize 0\n",
      "2021-12-07 22:06:58,309 : INFO : EPOCH 9 - PROGRESS: at 56.97% examples, 1457726 words/s, in_qsize 24, out_qsize 0\n",
      "2021-12-07 22:06:59,317 : INFO : EPOCH 9 - PROGRESS: at 67.78% examples, 1444413 words/s, in_qsize 23, out_qsize 0\n",
      "2021-12-07 22:07:00,327 : INFO : EPOCH 9 - PROGRESS: at 77.07% examples, 1404717 words/s, in_qsize 24, out_qsize 0\n",
      "2021-12-07 22:07:01,335 : INFO : EPOCH 9 - PROGRESS: at 87.36% examples, 1392319 words/s, in_qsize 22, out_qsize 1\n"
     ]
    },
    {
     "ename": "KeyboardInterrupt",
     "evalue": "",
     "output_type": "error",
     "traceback": [
      "\u001b[0;31m---------------------------------------------------------------------------\u001b[0m",
      "\u001b[0;31mKeyboardInterrupt\u001b[0m                         Traceback (most recent call last)",
      "\u001b[0;32m<ipython-input-4-dbf2be6aa43c>\u001b[0m in \u001b[0;36m<module>\u001b[0;34m\u001b[0m\n\u001b[1;32m      7\u001b[0m                                 \u001b[0mnegative\u001b[0m \u001b[0;34m=\u001b[0m \u001b[0;36m5\u001b[0m\u001b[0;34m,\u001b[0m \u001b[0;31m#number sampling\u001b[0m\u001b[0;34m\u001b[0m\u001b[0;34m\u001b[0m\u001b[0m\n\u001b[1;32m      8\u001b[0m                                 \u001b[0mepochs\u001b[0m \u001b[0;34m=\u001b[0m \u001b[0;36m20\u001b[0m\u001b[0;34m,\u001b[0m\u001b[0;34m\u001b[0m\u001b[0;34m\u001b[0m\u001b[0m\n\u001b[0;32m----> 9\u001b[0;31m                                 workers=cpu_count())\n\u001b[0m",
      "\u001b[0;32m~/.local/lib/python3.6/site-packages/gensim/models/word2vec.py\u001b[0m in \u001b[0;36m__init__\u001b[0;34m(self, sentences, corpus_file, vector_size, alpha, window, min_count, max_vocab_size, sample, seed, workers, min_alpha, sg, hs, negative, ns_exponent, cbow_mean, hashfxn, epochs, null_word, trim_rule, sorted_vocab, batch_words, compute_loss, callbacks, comment, max_final_vocab, shrink_windows)\u001b[0m\n\u001b[1;32m    427\u001b[0m                 \u001b[0mcorpus_iterable\u001b[0m\u001b[0;34m=\u001b[0m\u001b[0mcorpus_iterable\u001b[0m\u001b[0;34m,\u001b[0m \u001b[0mcorpus_file\u001b[0m\u001b[0;34m=\u001b[0m\u001b[0mcorpus_file\u001b[0m\u001b[0;34m,\u001b[0m \u001b[0mtotal_examples\u001b[0m\u001b[0;34m=\u001b[0m\u001b[0mself\u001b[0m\u001b[0;34m.\u001b[0m\u001b[0mcorpus_count\u001b[0m\u001b[0;34m,\u001b[0m\u001b[0;34m\u001b[0m\u001b[0;34m\u001b[0m\u001b[0m\n\u001b[1;32m    428\u001b[0m                 \u001b[0mtotal_words\u001b[0m\u001b[0;34m=\u001b[0m\u001b[0mself\u001b[0m\u001b[0;34m.\u001b[0m\u001b[0mcorpus_total_words\u001b[0m\u001b[0;34m,\u001b[0m \u001b[0mepochs\u001b[0m\u001b[0;34m=\u001b[0m\u001b[0mself\u001b[0m\u001b[0;34m.\u001b[0m\u001b[0mepochs\u001b[0m\u001b[0;34m,\u001b[0m \u001b[0mstart_alpha\u001b[0m\u001b[0;34m=\u001b[0m\u001b[0mself\u001b[0m\u001b[0;34m.\u001b[0m\u001b[0malpha\u001b[0m\u001b[0;34m,\u001b[0m\u001b[0;34m\u001b[0m\u001b[0;34m\u001b[0m\u001b[0m\n\u001b[0;32m--> 429\u001b[0;31m                 end_alpha=self.min_alpha, compute_loss=self.compute_loss, callbacks=callbacks)\n\u001b[0m\u001b[1;32m    430\u001b[0m         \u001b[0;32melse\u001b[0m\u001b[0;34m:\u001b[0m\u001b[0;34m\u001b[0m\u001b[0;34m\u001b[0m\u001b[0m\n\u001b[1;32m    431\u001b[0m             \u001b[0;32mif\u001b[0m \u001b[0mtrim_rule\u001b[0m \u001b[0;32mis\u001b[0m \u001b[0;32mnot\u001b[0m \u001b[0;32mNone\u001b[0m\u001b[0;34m:\u001b[0m\u001b[0;34m\u001b[0m\u001b[0;34m\u001b[0m\u001b[0m\n",
      "\u001b[0;32m~/.local/lib/python3.6/site-packages/gensim/models/word2vec.py\u001b[0m in \u001b[0;36mtrain\u001b[0;34m(self, corpus_iterable, corpus_file, total_examples, total_words, epochs, start_alpha, end_alpha, word_count, queue_factor, report_delay, compute_loss, callbacks, **kwargs)\u001b[0m\n\u001b[1;32m   1070\u001b[0m                     \u001b[0mcorpus_iterable\u001b[0m\u001b[0;34m,\u001b[0m \u001b[0mcur_epoch\u001b[0m\u001b[0;34m=\u001b[0m\u001b[0mcur_epoch\u001b[0m\u001b[0;34m,\u001b[0m \u001b[0mtotal_examples\u001b[0m\u001b[0;34m=\u001b[0m\u001b[0mtotal_examples\u001b[0m\u001b[0;34m,\u001b[0m\u001b[0;34m\u001b[0m\u001b[0;34m\u001b[0m\u001b[0m\n\u001b[1;32m   1071\u001b[0m                     \u001b[0mtotal_words\u001b[0m\u001b[0;34m=\u001b[0m\u001b[0mtotal_words\u001b[0m\u001b[0;34m,\u001b[0m \u001b[0mqueue_factor\u001b[0m\u001b[0;34m=\u001b[0m\u001b[0mqueue_factor\u001b[0m\u001b[0;34m,\u001b[0m \u001b[0mreport_delay\u001b[0m\u001b[0;34m=\u001b[0m\u001b[0mreport_delay\u001b[0m\u001b[0;34m,\u001b[0m\u001b[0;34m\u001b[0m\u001b[0;34m\u001b[0m\u001b[0m\n\u001b[0;32m-> 1072\u001b[0;31m                     callbacks=callbacks, **kwargs)\n\u001b[0m\u001b[1;32m   1073\u001b[0m             \u001b[0;32melse\u001b[0m\u001b[0;34m:\u001b[0m\u001b[0;34m\u001b[0m\u001b[0;34m\u001b[0m\u001b[0m\n\u001b[1;32m   1074\u001b[0m                 trained_word_count_epoch, raw_word_count_epoch, job_tally_epoch = self._train_epoch_corpusfile(\n",
      "\u001b[0;32m~/.local/lib/python3.6/site-packages/gensim/models/word2vec.py\u001b[0m in \u001b[0;36m_train_epoch\u001b[0;34m(self, data_iterable, cur_epoch, total_examples, total_words, queue_factor, report_delay, callbacks)\u001b[0m\n\u001b[1;32m   1430\u001b[0m         trained_word_count, raw_word_count, job_tally = self._log_epoch_progress(\n\u001b[1;32m   1431\u001b[0m             \u001b[0mprogress_queue\u001b[0m\u001b[0;34m,\u001b[0m \u001b[0mjob_queue\u001b[0m\u001b[0;34m,\u001b[0m \u001b[0mcur_epoch\u001b[0m\u001b[0;34m=\u001b[0m\u001b[0mcur_epoch\u001b[0m\u001b[0;34m,\u001b[0m \u001b[0mtotal_examples\u001b[0m\u001b[0;34m=\u001b[0m\u001b[0mtotal_examples\u001b[0m\u001b[0;34m,\u001b[0m\u001b[0;34m\u001b[0m\u001b[0;34m\u001b[0m\u001b[0m\n\u001b[0;32m-> 1432\u001b[0;31m             \u001b[0mtotal_words\u001b[0m\u001b[0;34m=\u001b[0m\u001b[0mtotal_words\u001b[0m\u001b[0;34m,\u001b[0m \u001b[0mreport_delay\u001b[0m\u001b[0;34m=\u001b[0m\u001b[0mreport_delay\u001b[0m\u001b[0;34m,\u001b[0m \u001b[0mis_corpus_file_mode\u001b[0m\u001b[0;34m=\u001b[0m\u001b[0;32mFalse\u001b[0m\u001b[0;34m,\u001b[0m\u001b[0;34m\u001b[0m\u001b[0;34m\u001b[0m\u001b[0m\n\u001b[0m\u001b[1;32m   1433\u001b[0m         )\n\u001b[1;32m   1434\u001b[0m \u001b[0;34m\u001b[0m\u001b[0m\n",
      "\u001b[0;32m~/.local/lib/python3.6/site-packages/gensim/models/word2vec.py\u001b[0m in \u001b[0;36m_log_epoch_progress\u001b[0;34m(self, progress_queue, job_queue, cur_epoch, total_examples, total_words, report_delay, is_corpus_file_mode)\u001b[0m\n\u001b[1;32m   1283\u001b[0m \u001b[0;34m\u001b[0m\u001b[0m\n\u001b[1;32m   1284\u001b[0m         \u001b[0;32mwhile\u001b[0m \u001b[0munfinished_worker_count\u001b[0m \u001b[0;34m>\u001b[0m \u001b[0;36m0\u001b[0m\u001b[0;34m:\u001b[0m\u001b[0;34m\u001b[0m\u001b[0;34m\u001b[0m\u001b[0m\n\u001b[0;32m-> 1285\u001b[0;31m             \u001b[0mreport\u001b[0m \u001b[0;34m=\u001b[0m \u001b[0mprogress_queue\u001b[0m\u001b[0;34m.\u001b[0m\u001b[0mget\u001b[0m\u001b[0;34m(\u001b[0m\u001b[0;34m)\u001b[0m  \u001b[0;31m# blocks if workers too slow\u001b[0m\u001b[0;34m\u001b[0m\u001b[0;34m\u001b[0m\u001b[0m\n\u001b[0m\u001b[1;32m   1286\u001b[0m             \u001b[0;32mif\u001b[0m \u001b[0mreport\u001b[0m \u001b[0;32mis\u001b[0m \u001b[0;32mNone\u001b[0m\u001b[0;34m:\u001b[0m  \u001b[0;31m# a thread reporting that it finished\u001b[0m\u001b[0;34m\u001b[0m\u001b[0;34m\u001b[0m\u001b[0m\n\u001b[1;32m   1287\u001b[0m                 \u001b[0munfinished_worker_count\u001b[0m \u001b[0;34m-=\u001b[0m \u001b[0;36m1\u001b[0m\u001b[0;34m\u001b[0m\u001b[0;34m\u001b[0m\u001b[0m\n",
      "\u001b[0;32m/usr/lib/python3.6/queue.py\u001b[0m in \u001b[0;36mget\u001b[0;34m(self, block, timeout)\u001b[0m\n\u001b[1;32m    162\u001b[0m             \u001b[0;32melif\u001b[0m \u001b[0mtimeout\u001b[0m \u001b[0;32mis\u001b[0m \u001b[0;32mNone\u001b[0m\u001b[0;34m:\u001b[0m\u001b[0;34m\u001b[0m\u001b[0;34m\u001b[0m\u001b[0m\n\u001b[1;32m    163\u001b[0m                 \u001b[0;32mwhile\u001b[0m \u001b[0;32mnot\u001b[0m \u001b[0mself\u001b[0m\u001b[0;34m.\u001b[0m\u001b[0m_qsize\u001b[0m\u001b[0;34m(\u001b[0m\u001b[0;34m)\u001b[0m\u001b[0;34m:\u001b[0m\u001b[0;34m\u001b[0m\u001b[0;34m\u001b[0m\u001b[0m\n\u001b[0;32m--> 164\u001b[0;31m                     \u001b[0mself\u001b[0m\u001b[0;34m.\u001b[0m\u001b[0mnot_empty\u001b[0m\u001b[0;34m.\u001b[0m\u001b[0mwait\u001b[0m\u001b[0;34m(\u001b[0m\u001b[0;34m)\u001b[0m\u001b[0;34m\u001b[0m\u001b[0;34m\u001b[0m\u001b[0m\n\u001b[0m\u001b[1;32m    165\u001b[0m             \u001b[0;32melif\u001b[0m \u001b[0mtimeout\u001b[0m \u001b[0;34m<\u001b[0m \u001b[0;36m0\u001b[0m\u001b[0;34m:\u001b[0m\u001b[0;34m\u001b[0m\u001b[0;34m\u001b[0m\u001b[0m\n\u001b[1;32m    166\u001b[0m                 \u001b[0;32mraise\u001b[0m \u001b[0mValueError\u001b[0m\u001b[0;34m(\u001b[0m\u001b[0;34m\"'timeout' must be a non-negative number\"\u001b[0m\u001b[0;34m)\u001b[0m\u001b[0;34m\u001b[0m\u001b[0;34m\u001b[0m\u001b[0m\n",
      "\u001b[0;32m/usr/lib/python3.6/threading.py\u001b[0m in \u001b[0;36mwait\u001b[0;34m(self, timeout)\u001b[0m\n\u001b[1;32m    293\u001b[0m         \u001b[0;32mtry\u001b[0m\u001b[0;34m:\u001b[0m    \u001b[0;31m# restore state no matter what (e.g., KeyboardInterrupt)\u001b[0m\u001b[0;34m\u001b[0m\u001b[0;34m\u001b[0m\u001b[0m\n\u001b[1;32m    294\u001b[0m             \u001b[0;32mif\u001b[0m \u001b[0mtimeout\u001b[0m \u001b[0;32mis\u001b[0m \u001b[0;32mNone\u001b[0m\u001b[0;34m:\u001b[0m\u001b[0;34m\u001b[0m\u001b[0;34m\u001b[0m\u001b[0m\n\u001b[0;32m--> 295\u001b[0;31m                 \u001b[0mwaiter\u001b[0m\u001b[0;34m.\u001b[0m\u001b[0macquire\u001b[0m\u001b[0;34m(\u001b[0m\u001b[0;34m)\u001b[0m\u001b[0;34m\u001b[0m\u001b[0;34m\u001b[0m\u001b[0m\n\u001b[0m\u001b[1;32m    296\u001b[0m                 \u001b[0mgotit\u001b[0m \u001b[0;34m=\u001b[0m \u001b[0;32mTrue\u001b[0m\u001b[0;34m\u001b[0m\u001b[0;34m\u001b[0m\u001b[0m\n\u001b[1;32m    297\u001b[0m             \u001b[0;32melse\u001b[0m\u001b[0;34m:\u001b[0m\u001b[0;34m\u001b[0m\u001b[0;34m\u001b[0m\u001b[0m\n",
      "\u001b[0;31mKeyboardInterrupt\u001b[0m: "
     ]
    }
   ],
   "source": [
    "model = Word2Vec(data,\n",
    "                                min_count=1,\n",
    "                                sg = 0, #skip-gram or cbow\n",
    "                                window = 6, #window size\n",
    "                                vector_size = 300, #dimensionality\n",
    "                                hs = 0, #use negative sampling\n",
    "                                negative = 5, #number sampling\n",
    "                                epochs = 20,\n",
    "                                workers=cpu_count())"
   ]
  },
  {
   "cell_type": "code",
   "execution_count": 4,
   "metadata": {},
   "outputs": [],
   "source": [
    "count = 0\n",
    "text = \"\"\n",
    "with open(\"data/text8\", 'r') as infile:\n",
    "    for line in infile:\n",
    "        text = process_text(line)\n",
    "        \n",
    "        count = + 1"
   ]
  },
  {
   "cell_type": "code",
   "execution_count": 6,
   "metadata": {},
   "outputs": [
    {
     "name": "stdout",
     "output_type": "stream",
     "text": [
      " anarchism originated astermabuse first usedearly \n"
     ]
    }
   ],
   "source": [
    "print(text[0:50])"
   ]
  },
  {
   "cell_type": "code",
   "execution_count": 6,
   "metadata": {},
   "outputs": [],
   "source": [
    "sentences = word2vec.Text8Corpus('data/text8')"
   ]
  },
  {
   "cell_type": "code",
   "execution_count": null,
   "metadata": {},
   "outputs": [],
   "source": [
    "model = Word2Vec(sentences, min_count=5)"
   ]
  },
  {
   "cell_type": "code",
   "execution_count": 36,
   "metadata": {},
   "outputs": [
    {
     "data": {
      "text/plain": [
       "[('bad', 0.7443740963935852),\n",
       " ('poor', 0.5743762254714966),\n",
       " ('quick', 0.5488086342811584),\n",
       " ('reasonable', 0.5429285764694214),\n",
       " ('safe', 0.5324724912643433),\n",
       " ('little', 0.5284340381622314),\n",
       " ('clever', 0.5271481275558472),\n",
       " ('wrong', 0.5259556770324707),\n",
       " ('fun', 0.5209583044052124),\n",
       " ('simple', 0.5187517404556274)]"
      ]
     },
     "execution_count": 36,
     "metadata": {},
     "output_type": "execute_result"
    }
   ],
   "source": [
    "model.wv.most_similar(\"good\")"
   ]
  },
  {
   "cell_type": "code",
   "execution_count": 43,
   "metadata": {},
   "outputs": [
    {
     "data": {
      "text/plain": [
       "[('kiev', 0.4300565719604492),\n",
       " ('carta', 0.4149296283721924),\n",
       " ('brabant', 0.4144781827926636),\n",
       " ('umayyad', 0.40684974193573),\n",
       " ('iii', 0.39912277460098267),\n",
       " ('ducal', 0.394608736038208),\n",
       " ('cordoba', 0.39357495307922363),\n",
       " ('hohenstaufen', 0.39350447058677673),\n",
       " ('abdicates', 0.3897632956504822),\n",
       " ('achaemenid', 0.38964521884918213)]"
      ]
     },
     "execution_count": 43,
     "metadata": {},
     "output_type": "execute_result"
    }
   ],
   "source": [
    "model.wv.most_similar(negative=['man', 'women'], positive=['king'], topn=10)"
   ]
  },
  {
   "cell_type": "code",
   "execution_count": 29,
   "metadata": {},
   "outputs": [
    {
     "data": {
      "text/plain": [
       "0.66290057"
      ]
     },
     "execution_count": 29,
     "metadata": {},
     "output_type": "execute_result"
    }
   ],
   "source": [
    "model.wv.similarity('king', 'queen')"
   ]
  }
 ],
 "metadata": {
  "kernelspec": {
   "display_name": "Python 3",
   "language": "python",
   "name": "python3"
  },
  "language_info": {
   "codemirror_mode": {
    "name": "ipython",
    "version": 3
   },
   "file_extension": ".py",
   "mimetype": "text/x-python",
   "name": "python",
   "nbconvert_exporter": "python",
   "pygments_lexer": "ipython3",
   "version": "3.6.9"
  }
 },
 "nbformat": 4,
 "nbformat_minor": 2
}
