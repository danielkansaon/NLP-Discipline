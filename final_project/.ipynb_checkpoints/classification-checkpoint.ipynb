{
 "cells": [
  {
   "cell_type": "code",
   "execution_count": 201,
   "metadata": {},
   "outputs": [],
   "source": [
    "import json\n",
    "import gzip\n",
    "import pandas as pd\n",
    "import re\n",
    "import string\n",
    "import os\n",
    "from tqdm import tqdm\n",
    "from collections import Counter\n",
    "\n",
    "from nltk.corpus import stopwords\n",
    "from nltk import word_tokenize\n",
    "\n",
    "import plotly.express as px\n",
    "\n",
    "from keras.preprocessing.text import Tokenizer\n",
    "from tensorflow.keras.preprocessing.sequence import pad_sequences\n",
    "import keras.utils as util\n",
    "\n",
    "from keras.preprocessing.text import Tokenizer\n",
    "from keras.preprocessing.sequence import pad_sequences\n",
    "import keras.utils as util\n",
    "from keras.models import Sequential\n",
    "from keras.layers import Embedding\n",
    "from keras.layers import Dense\n",
    "from keras.layers import TimeDistributed\n",
    "from keras.layers import SimpleRNN\n",
    "from keras.layers import LSTM, Bidirectional\n",
    "from keras.layers import Dropout\n",
    "from keras import backend as K\n",
    "from keras import layers\n",
    "from keras.models import Model\n",
    "from keras.layers import Flatten\n",
    "\n",
    "from keras.layers import Conv1D\n",
    "from keras.layers import GlobalMaxPooling1D\n",
    "from keras.layers import MaxPooling1D\n",
    "\n",
    "from keras.layers import Input\n",
    "from sklearn.utils import class_weight\n",
    "from collections import Counter\n",
    "import sklearn.metrics \n",
    "from sklearn.metrics import confusion_matrix\n",
    "from sklearn.metrics import classification_report"
   ]
  },
  {
   "cell_type": "markdown",
   "metadata": {},
   "source": [
    "# CONSTANTS"
   ]
  },
  {
   "cell_type": "code",
   "execution_count": 3,
   "metadata": {},
   "outputs": [],
   "source": [
    "FILE_PATH_ZAP = './scripts/final_data/db_grupos_de_zap.json.gz'\n",
    "FILE_PATH_WHATS = './scripts/final_data/db_grupos_whats.json.gz'\n",
    "STOP_WORDS = set(stopwords.words('portuguese'))\n",
    "EMBEDDING_SIZE = 50\n",
    "EMBEDDING_PATH = '/home/daniel/Downloads'"
   ]
  },
  {
   "cell_type": "markdown",
   "metadata": {},
   "source": [
    "# METHODS"
   ]
  },
  {
   "cell_type": "code",
   "execution_count": 4,
   "metadata": {},
   "outputs": [],
   "source": [
    "def read_data(path):\n",
    "    with gzip.open(path, 'r') as fin:      \n",
    "        json_bytes = fin.read()  \n",
    "\n",
    "        json_str = json_bytes.decode('utf-8')            \n",
    "        data = json.loads(json_str)\n",
    "    \n",
    "    return data"
   ]
  },
  {
   "cell_type": "code",
   "execution_count": 5,
   "metadata": {},
   "outputs": [],
   "source": [
    "def remove_emoji(string):\n",
    "    emoji_pattern = re.compile(\"[\"\n",
    "                               u\"\\U0001F600-\\U0001F64F\" \n",
    "                               u\"\\U0001F300-\\U0001F5FF\"  \n",
    "                               u\"\\U0001F680-\\U0001F6FF\"  \n",
    "                               u\"\\U0001F1E0-\\U0001F1FF\"  \n",
    "                               u\"\\U00002500-\\U00002BEF\"  \n",
    "                               u\"\\U00002702-\\U000027B0\"\n",
    "                               u\"\\U00002702-\\U000027B0\"\n",
    "                               u\"\\U000024C2-\\U0001F251\"\n",
    "                               u\"\\U0001f926-\\U0001f937\"\n",
    "                               u\"\\U00010000-\\U0010ffff\"\n",
    "                               u\"\\u2640-\\u2642\"\n",
    "                               u\"\\u2600-\\u2B55\"\n",
    "                               u\"\\u200d\"\n",
    "                               u\"\\u23cf\"\n",
    "                               u\"\\u23e9\"\n",
    "                               u\"\\u231a\"\n",
    "                               u\"\\ufe0f\"  \n",
    "                               u\"\\u3030\"\n",
    "                               \"]+\", flags=re.UNICODE)\n",
    "    return emoji_pattern.sub(r'', string)"
   ]
  },
  {
   "cell_type": "code",
   "execution_count": 319,
   "metadata": {},
   "outputs": [],
   "source": [
    "def process_text(text):\n",
    "    text = remove_emoji(text) #REMOVE EMOJIS\n",
    "    #text = ' '.join([word for word in text.split() if word not in STOP_WORDS]) #REMOVE STOPWORDS\n",
    "    text = text.translate(str.maketrans('', '', string.punctuation)) #REMOVE PONTUAÇÃO\n",
    "    #text = ' '.join([word for word in text.split() if not word.isdigit()]) #REMOVE DIGITOS\n",
    "    \n",
    "    return text.lower()"
   ]
  },
  {
   "cell_type": "code",
   "execution_count": 427,
   "metadata": {},
   "outputs": [],
   "source": [
    "def get_df_data(data):\n",
    "    desc = [data[i]['title'] + ' ' + data[i]['description'] for i in range(0, len(data))]\n",
    "    cat = [d['category'] for d in data]\n",
    "    return pd.DataFrame({'description': desc, 'category': cat})\n",
    "\n",
    "#https://towardsdatascience.com/machine-learning-multiclass-classification-with-imbalanced-data-set-29f6a177c1a\n",
    "#https://colab.research.google.com/github/dipanjanS/nlp_workshop_odsc19/blob/master/Module05%20-%20NLP%20Applications/Project07B%20-%20Text%20Classification%20Deep%20Learning%20CNN%20Models.ipynb#scrollTo=AXhAERVeXhmZ"
   ]
  },
  {
   "cell_type": "markdown",
   "metadata": {},
   "source": [
    "# LOAD DATA"
   ]
  },
  {
   "cell_type": "code",
   "execution_count": 428,
   "metadata": {},
   "outputs": [],
   "source": [
    "df_base1 = get_df_data(read_data(FILE_PATH_ZAP))\n",
    "df_base2 = get_df_data(read_data(FILE_PATH_WHATS))"
   ]
  },
  {
   "cell_type": "markdown",
   "metadata": {},
   "source": [
    "## Pre-Processing Data"
   ]
  },
  {
   "cell_type": "code",
   "execution_count": 429,
   "metadata": {},
   "outputs": [],
   "source": [
    "df_base1['description'] = df_base1['description'].apply(process_text)\n",
    "df_base2['description'] = df_base2['description'].apply(process_text)"
   ]
  },
  {
   "cell_type": "code",
   "execution_count": 430,
   "metadata": {},
   "outputs": [],
   "source": [
    "qtd_cat_base1 = Counter(df_base1['category'])\n",
    "qtd_cat_base2 = Counter(df_base2['category'])"
   ]
  },
  {
   "cell_type": "markdown",
   "metadata": {},
   "source": [
    "## Distribuition"
   ]
  },
  {
   "cell_type": "code",
   "execution_count": 431,
   "metadata": {},
   "outputs": [
    {
     "data": {
      "application/vnd.plotly.v1+json": {
       "config": {
        "plotlyServerURL": "https://plot.ly"
       },
       "data": [
        {
         "alignmentgroup": "True",
         "hovertemplate": "Dados=Base 1<br>Quantidade=%{x}<br>Categoria=%{y}<extra></extra>",
         "legendgroup": "Base 1",
         "marker": {
          "color": "#636efa",
          "pattern": {
           "shape": ""
          }
         },
         "name": "Base 1",
         "offsetgroup": "Base 1",
         "orientation": "h",
         "showlegend": true,
         "textposition": "auto",
         "type": "bar",
         "x": [
          941,
          359,
          8045,
          930,
          457,
          604,
          540,
          101,
          173,
          1424,
          2175,
          373,
          891,
          221,
          2397,
          959,
          468,
          688,
          643,
          357,
          348,
          2361,
          968,
          106,
          1042,
          61,
          186,
          157,
          83,
          124,
          137
         ],
         "xaxis": "x",
         "y": [
          "filmes e séries",
          "tv",
          "amizade",
          "religião",
          "futebol",
          "esportes e academia",
          "figurinhas e stickers",
          "vagas de empregos",
          "notícias",
          "desenhos e animes",
          "ganhar dinheiro",
          "frases e mensagens",
          "fãs",
          "emagrecimento e perda de peso",
          "games e jogos",
          "música",
          "profissões",
          "moda e beleza",
          "educação",
          "namoro",
          "amor e romance",
          "outros",
          "redes sociais",
          "cidades",
          "memes, engraçados e zoeira",
          "links de grupos",
          "concursos",
          "festas, baladas e eventos",
          "política",
          "receitas",
          "carros e motos"
         ],
         "yaxis": "y"
        },
        {
         "alignmentgroup": "True",
         "hovertemplate": "Dados=Base 2<br>Quantidade=%{x}<br>Categoria=%{y}<extra></extra>",
         "legendgroup": "Base 2",
         "marker": {
          "color": "#EF553B",
          "pattern": {
           "shape": ""
          }
         },
         "name": "Base 2",
         "offsetgroup": "Base 2",
         "orientation": "h",
         "showlegend": true,
         "textposition": "auto",
         "type": "bar",
         "x": [
          6759,
          69419,
          8041,
          702,
          12564,
          29126,
          9858,
          3838,
          1630,
          1722,
          10214,
          1333,
          13901,
          781,
          575,
          390,
          510,
          2007,
          398,
          4008,
          211,
          1479,
          500,
          1961,
          298,
          1971,
          2810,
          6600,
          2086,
          401,
          490
         ],
         "xaxis": "x",
         "y": [
          "figurinhas e stickers",
          "amizade",
          "ganhar dinheiro",
          "vagas de empregos",
          "desenhos e animes",
          "games e jogos",
          "memes, engraçados e zoeira",
          "amor e romance",
          "religião",
          "emagrecimento e perda de peso",
          "outros",
          "futebol",
          "redes sociais",
          "namoro",
          "frases e mensagens",
          "notícias",
          "política",
          "música",
          "tv",
          "links de grupos",
          "receitas",
          "moda e beleza",
          "profissões",
          "filmes e séries",
          "cidades",
          "educação",
          "esportes e academia",
          "fãs",
          "festas, baladas e eventos",
          "carros e motos",
          "concursos"
         ],
         "yaxis": "y"
        }
       ],
       "layout": {
        "barmode": "relative",
        "legend": {
         "title": {
          "text": "Dados"
         },
         "tracegroupgap": 0
        },
        "margin": {
         "t": 60
        },
        "template": {
         "data": {
          "bar": [
           {
            "error_x": {
             "color": "#2a3f5f"
            },
            "error_y": {
             "color": "#2a3f5f"
            },
            "marker": {
             "line": {
              "color": "#E5ECF6",
              "width": 0.5
             },
             "pattern": {
              "fillmode": "overlay",
              "size": 10,
              "solidity": 0.2
             }
            },
            "type": "bar"
           }
          ],
          "barpolar": [
           {
            "marker": {
             "line": {
              "color": "#E5ECF6",
              "width": 0.5
             },
             "pattern": {
              "fillmode": "overlay",
              "size": 10,
              "solidity": 0.2
             }
            },
            "type": "barpolar"
           }
          ],
          "carpet": [
           {
            "aaxis": {
             "endlinecolor": "#2a3f5f",
             "gridcolor": "white",
             "linecolor": "white",
             "minorgridcolor": "white",
             "startlinecolor": "#2a3f5f"
            },
            "baxis": {
             "endlinecolor": "#2a3f5f",
             "gridcolor": "white",
             "linecolor": "white",
             "minorgridcolor": "white",
             "startlinecolor": "#2a3f5f"
            },
            "type": "carpet"
           }
          ],
          "choropleth": [
           {
            "colorbar": {
             "outlinewidth": 0,
             "ticks": ""
            },
            "type": "choropleth"
           }
          ],
          "contour": [
           {
            "colorbar": {
             "outlinewidth": 0,
             "ticks": ""
            },
            "colorscale": [
             [
              0,
              "#0d0887"
             ],
             [
              0.1111111111111111,
              "#46039f"
             ],
             [
              0.2222222222222222,
              "#7201a8"
             ],
             [
              0.3333333333333333,
              "#9c179e"
             ],
             [
              0.4444444444444444,
              "#bd3786"
             ],
             [
              0.5555555555555556,
              "#d8576b"
             ],
             [
              0.6666666666666666,
              "#ed7953"
             ],
             [
              0.7777777777777778,
              "#fb9f3a"
             ],
             [
              0.8888888888888888,
              "#fdca26"
             ],
             [
              1,
              "#f0f921"
             ]
            ],
            "type": "contour"
           }
          ],
          "contourcarpet": [
           {
            "colorbar": {
             "outlinewidth": 0,
             "ticks": ""
            },
            "type": "contourcarpet"
           }
          ],
          "heatmap": [
           {
            "colorbar": {
             "outlinewidth": 0,
             "ticks": ""
            },
            "colorscale": [
             [
              0,
              "#0d0887"
             ],
             [
              0.1111111111111111,
              "#46039f"
             ],
             [
              0.2222222222222222,
              "#7201a8"
             ],
             [
              0.3333333333333333,
              "#9c179e"
             ],
             [
              0.4444444444444444,
              "#bd3786"
             ],
             [
              0.5555555555555556,
              "#d8576b"
             ],
             [
              0.6666666666666666,
              "#ed7953"
             ],
             [
              0.7777777777777778,
              "#fb9f3a"
             ],
             [
              0.8888888888888888,
              "#fdca26"
             ],
             [
              1,
              "#f0f921"
             ]
            ],
            "type": "heatmap"
           }
          ],
          "heatmapgl": [
           {
            "colorbar": {
             "outlinewidth": 0,
             "ticks": ""
            },
            "colorscale": [
             [
              0,
              "#0d0887"
             ],
             [
              0.1111111111111111,
              "#46039f"
             ],
             [
              0.2222222222222222,
              "#7201a8"
             ],
             [
              0.3333333333333333,
              "#9c179e"
             ],
             [
              0.4444444444444444,
              "#bd3786"
             ],
             [
              0.5555555555555556,
              "#d8576b"
             ],
             [
              0.6666666666666666,
              "#ed7953"
             ],
             [
              0.7777777777777778,
              "#fb9f3a"
             ],
             [
              0.8888888888888888,
              "#fdca26"
             ],
             [
              1,
              "#f0f921"
             ]
            ],
            "type": "heatmapgl"
           }
          ],
          "histogram": [
           {
            "marker": {
             "pattern": {
              "fillmode": "overlay",
              "size": 10,
              "solidity": 0.2
             }
            },
            "type": "histogram"
           }
          ],
          "histogram2d": [
           {
            "colorbar": {
             "outlinewidth": 0,
             "ticks": ""
            },
            "colorscale": [
             [
              0,
              "#0d0887"
             ],
             [
              0.1111111111111111,
              "#46039f"
             ],
             [
              0.2222222222222222,
              "#7201a8"
             ],
             [
              0.3333333333333333,
              "#9c179e"
             ],
             [
              0.4444444444444444,
              "#bd3786"
             ],
             [
              0.5555555555555556,
              "#d8576b"
             ],
             [
              0.6666666666666666,
              "#ed7953"
             ],
             [
              0.7777777777777778,
              "#fb9f3a"
             ],
             [
              0.8888888888888888,
              "#fdca26"
             ],
             [
              1,
              "#f0f921"
             ]
            ],
            "type": "histogram2d"
           }
          ],
          "histogram2dcontour": [
           {
            "colorbar": {
             "outlinewidth": 0,
             "ticks": ""
            },
            "colorscale": [
             [
              0,
              "#0d0887"
             ],
             [
              0.1111111111111111,
              "#46039f"
             ],
             [
              0.2222222222222222,
              "#7201a8"
             ],
             [
              0.3333333333333333,
              "#9c179e"
             ],
             [
              0.4444444444444444,
              "#bd3786"
             ],
             [
              0.5555555555555556,
              "#d8576b"
             ],
             [
              0.6666666666666666,
              "#ed7953"
             ],
             [
              0.7777777777777778,
              "#fb9f3a"
             ],
             [
              0.8888888888888888,
              "#fdca26"
             ],
             [
              1,
              "#f0f921"
             ]
            ],
            "type": "histogram2dcontour"
           }
          ],
          "mesh3d": [
           {
            "colorbar": {
             "outlinewidth": 0,
             "ticks": ""
            },
            "type": "mesh3d"
           }
          ],
          "parcoords": [
           {
            "line": {
             "colorbar": {
              "outlinewidth": 0,
              "ticks": ""
             }
            },
            "type": "parcoords"
           }
          ],
          "pie": [
           {
            "automargin": true,
            "type": "pie"
           }
          ],
          "scatter": [
           {
            "marker": {
             "colorbar": {
              "outlinewidth": 0,
              "ticks": ""
             }
            },
            "type": "scatter"
           }
          ],
          "scatter3d": [
           {
            "line": {
             "colorbar": {
              "outlinewidth": 0,
              "ticks": ""
             }
            },
            "marker": {
             "colorbar": {
              "outlinewidth": 0,
              "ticks": ""
             }
            },
            "type": "scatter3d"
           }
          ],
          "scattercarpet": [
           {
            "marker": {
             "colorbar": {
              "outlinewidth": 0,
              "ticks": ""
             }
            },
            "type": "scattercarpet"
           }
          ],
          "scattergeo": [
           {
            "marker": {
             "colorbar": {
              "outlinewidth": 0,
              "ticks": ""
             }
            },
            "type": "scattergeo"
           }
          ],
          "scattergl": [
           {
            "marker": {
             "colorbar": {
              "outlinewidth": 0,
              "ticks": ""
             }
            },
            "type": "scattergl"
           }
          ],
          "scattermapbox": [
           {
            "marker": {
             "colorbar": {
              "outlinewidth": 0,
              "ticks": ""
             }
            },
            "type": "scattermapbox"
           }
          ],
          "scatterpolar": [
           {
            "marker": {
             "colorbar": {
              "outlinewidth": 0,
              "ticks": ""
             }
            },
            "type": "scatterpolar"
           }
          ],
          "scatterpolargl": [
           {
            "marker": {
             "colorbar": {
              "outlinewidth": 0,
              "ticks": ""
             }
            },
            "type": "scatterpolargl"
           }
          ],
          "scatterternary": [
           {
            "marker": {
             "colorbar": {
              "outlinewidth": 0,
              "ticks": ""
             }
            },
            "type": "scatterternary"
           }
          ],
          "surface": [
           {
            "colorbar": {
             "outlinewidth": 0,
             "ticks": ""
            },
            "colorscale": [
             [
              0,
              "#0d0887"
             ],
             [
              0.1111111111111111,
              "#46039f"
             ],
             [
              0.2222222222222222,
              "#7201a8"
             ],
             [
              0.3333333333333333,
              "#9c179e"
             ],
             [
              0.4444444444444444,
              "#bd3786"
             ],
             [
              0.5555555555555556,
              "#d8576b"
             ],
             [
              0.6666666666666666,
              "#ed7953"
             ],
             [
              0.7777777777777778,
              "#fb9f3a"
             ],
             [
              0.8888888888888888,
              "#fdca26"
             ],
             [
              1,
              "#f0f921"
             ]
            ],
            "type": "surface"
           }
          ],
          "table": [
           {
            "cells": {
             "fill": {
              "color": "#EBF0F8"
             },
             "line": {
              "color": "white"
             }
            },
            "header": {
             "fill": {
              "color": "#C8D4E3"
             },
             "line": {
              "color": "white"
             }
            },
            "type": "table"
           }
          ]
         },
         "layout": {
          "annotationdefaults": {
           "arrowcolor": "#2a3f5f",
           "arrowhead": 0,
           "arrowwidth": 1
          },
          "autotypenumbers": "strict",
          "coloraxis": {
           "colorbar": {
            "outlinewidth": 0,
            "ticks": ""
           }
          },
          "colorscale": {
           "diverging": [
            [
             0,
             "#8e0152"
            ],
            [
             0.1,
             "#c51b7d"
            ],
            [
             0.2,
             "#de77ae"
            ],
            [
             0.3,
             "#f1b6da"
            ],
            [
             0.4,
             "#fde0ef"
            ],
            [
             0.5,
             "#f7f7f7"
            ],
            [
             0.6,
             "#e6f5d0"
            ],
            [
             0.7,
             "#b8e186"
            ],
            [
             0.8,
             "#7fbc41"
            ],
            [
             0.9,
             "#4d9221"
            ],
            [
             1,
             "#276419"
            ]
           ],
           "sequential": [
            [
             0,
             "#0d0887"
            ],
            [
             0.1111111111111111,
             "#46039f"
            ],
            [
             0.2222222222222222,
             "#7201a8"
            ],
            [
             0.3333333333333333,
             "#9c179e"
            ],
            [
             0.4444444444444444,
             "#bd3786"
            ],
            [
             0.5555555555555556,
             "#d8576b"
            ],
            [
             0.6666666666666666,
             "#ed7953"
            ],
            [
             0.7777777777777778,
             "#fb9f3a"
            ],
            [
             0.8888888888888888,
             "#fdca26"
            ],
            [
             1,
             "#f0f921"
            ]
           ],
           "sequentialminus": [
            [
             0,
             "#0d0887"
            ],
            [
             0.1111111111111111,
             "#46039f"
            ],
            [
             0.2222222222222222,
             "#7201a8"
            ],
            [
             0.3333333333333333,
             "#9c179e"
            ],
            [
             0.4444444444444444,
             "#bd3786"
            ],
            [
             0.5555555555555556,
             "#d8576b"
            ],
            [
             0.6666666666666666,
             "#ed7953"
            ],
            [
             0.7777777777777778,
             "#fb9f3a"
            ],
            [
             0.8888888888888888,
             "#fdca26"
            ],
            [
             1,
             "#f0f921"
            ]
           ]
          },
          "colorway": [
           "#636efa",
           "#EF553B",
           "#00cc96",
           "#ab63fa",
           "#FFA15A",
           "#19d3f3",
           "#FF6692",
           "#B6E880",
           "#FF97FF",
           "#FECB52"
          ],
          "font": {
           "color": "#2a3f5f"
          },
          "geo": {
           "bgcolor": "white",
           "lakecolor": "white",
           "landcolor": "#E5ECF6",
           "showlakes": true,
           "showland": true,
           "subunitcolor": "white"
          },
          "hoverlabel": {
           "align": "left"
          },
          "hovermode": "closest",
          "mapbox": {
           "style": "light"
          },
          "paper_bgcolor": "white",
          "plot_bgcolor": "#E5ECF6",
          "polar": {
           "angularaxis": {
            "gridcolor": "white",
            "linecolor": "white",
            "ticks": ""
           },
           "bgcolor": "#E5ECF6",
           "radialaxis": {
            "gridcolor": "white",
            "linecolor": "white",
            "ticks": ""
           }
          },
          "scene": {
           "xaxis": {
            "backgroundcolor": "#E5ECF6",
            "gridcolor": "white",
            "gridwidth": 2,
            "linecolor": "white",
            "showbackground": true,
            "ticks": "",
            "zerolinecolor": "white"
           },
           "yaxis": {
            "backgroundcolor": "#E5ECF6",
            "gridcolor": "white",
            "gridwidth": 2,
            "linecolor": "white",
            "showbackground": true,
            "ticks": "",
            "zerolinecolor": "white"
           },
           "zaxis": {
            "backgroundcolor": "#E5ECF6",
            "gridcolor": "white",
            "gridwidth": 2,
            "linecolor": "white",
            "showbackground": true,
            "ticks": "",
            "zerolinecolor": "white"
           }
          },
          "shapedefaults": {
           "line": {
            "color": "#2a3f5f"
           }
          },
          "ternary": {
           "aaxis": {
            "gridcolor": "white",
            "linecolor": "white",
            "ticks": ""
           },
           "baxis": {
            "gridcolor": "white",
            "linecolor": "white",
            "ticks": ""
           },
           "bgcolor": "#E5ECF6",
           "caxis": {
            "gridcolor": "white",
            "linecolor": "white",
            "ticks": ""
           }
          },
          "title": {
           "x": 0.05
          },
          "xaxis": {
           "automargin": true,
           "gridcolor": "white",
           "linecolor": "white",
           "ticks": "",
           "title": {
            "standoff": 15
           },
           "zerolinecolor": "white",
           "zerolinewidth": 2
          },
          "yaxis": {
           "automargin": true,
           "gridcolor": "white",
           "linecolor": "white",
           "ticks": "",
           "title": {
            "standoff": 15
           },
           "zerolinecolor": "white",
           "zerolinewidth": 2
          }
         }
        },
        "xaxis": {
         "anchor": "y",
         "domain": [
          0,
          1
         ],
         "title": {
          "text": "Quantidade"
         }
        },
        "yaxis": {
         "anchor": "x",
         "domain": [
          0,
          1
         ],
         "title": {
          "text": "Categoria"
         }
        }
       }
      },
      "text/html": [
       "<div>                            <div id=\"e814deea-7efc-4266-b618-0fb5d71b7bcb\" class=\"plotly-graph-div\" style=\"height:525px; width:100%;\"></div>            <script type=\"text/javascript\">                require([\"plotly\"], function(Plotly) {                    window.PLOTLYENV=window.PLOTLYENV || {};                                    if (document.getElementById(\"e814deea-7efc-4266-b618-0fb5d71b7bcb\")) {                    Plotly.newPlot(                        \"e814deea-7efc-4266-b618-0fb5d71b7bcb\",                        [{\"alignmentgroup\":\"True\",\"hovertemplate\":\"Dados=Base 1<br>Quantidade=%{x}<br>Categoria=%{y}<extra></extra>\",\"legendgroup\":\"Base 1\",\"marker\":{\"color\":\"#636efa\",\"pattern\":{\"shape\":\"\"}},\"name\":\"Base 1\",\"offsetgroup\":\"Base 1\",\"orientation\":\"h\",\"showlegend\":true,\"textposition\":\"auto\",\"x\":[941,359,8045,930,457,604,540,101,173,1424,2175,373,891,221,2397,959,468,688,643,357,348,2361,968,106,1042,61,186,157,83,124,137],\"xaxis\":\"x\",\"y\":[\"filmes e s\\u00e9ries\",\"tv\",\"amizade\",\"religi\\u00e3o\",\"futebol\",\"esportes e academia\",\"figurinhas e stickers\",\"vagas de empregos\",\"not\\u00edcias\",\"desenhos e animes\",\"ganhar dinheiro\",\"frases e mensagens\",\"f\\u00e3s\",\"emagrecimento e perda de peso\",\"games e jogos\",\"m\\u00fasica\",\"profiss\\u00f5es\",\"moda e beleza\",\"educa\\u00e7\\u00e3o\",\"namoro\",\"amor e romance\",\"outros\",\"redes sociais\",\"cidades\",\"memes, engra\\u00e7ados e zoeira\",\"links de grupos\",\"concursos\",\"festas, baladas e eventos\",\"pol\\u00edtica\",\"receitas\",\"carros e motos\"],\"yaxis\":\"y\",\"type\":\"bar\"},{\"alignmentgroup\":\"True\",\"hovertemplate\":\"Dados=Base 2<br>Quantidade=%{x}<br>Categoria=%{y}<extra></extra>\",\"legendgroup\":\"Base 2\",\"marker\":{\"color\":\"#EF553B\",\"pattern\":{\"shape\":\"\"}},\"name\":\"Base 2\",\"offsetgroup\":\"Base 2\",\"orientation\":\"h\",\"showlegend\":true,\"textposition\":\"auto\",\"x\":[6759,69419,8041,702,12564,29126,9858,3838,1630,1722,10214,1333,13901,781,575,390,510,2007,398,4008,211,1479,500,1961,298,1971,2810,6600,2086,401,490],\"xaxis\":\"x\",\"y\":[\"figurinhas e stickers\",\"amizade\",\"ganhar dinheiro\",\"vagas de empregos\",\"desenhos e animes\",\"games e jogos\",\"memes, engra\\u00e7ados e zoeira\",\"amor e romance\",\"religi\\u00e3o\",\"emagrecimento e perda de peso\",\"outros\",\"futebol\",\"redes sociais\",\"namoro\",\"frases e mensagens\",\"not\\u00edcias\",\"pol\\u00edtica\",\"m\\u00fasica\",\"tv\",\"links de grupos\",\"receitas\",\"moda e beleza\",\"profiss\\u00f5es\",\"filmes e s\\u00e9ries\",\"cidades\",\"educa\\u00e7\\u00e3o\",\"esportes e academia\",\"f\\u00e3s\",\"festas, baladas e eventos\",\"carros e motos\",\"concursos\"],\"yaxis\":\"y\",\"type\":\"bar\"}],                        {\"template\":{\"data\":{\"bar\":[{\"error_x\":{\"color\":\"#2a3f5f\"},\"error_y\":{\"color\":\"#2a3f5f\"},\"marker\":{\"line\":{\"color\":\"#E5ECF6\",\"width\":0.5},\"pattern\":{\"fillmode\":\"overlay\",\"size\":10,\"solidity\":0.2}},\"type\":\"bar\"}],\"barpolar\":[{\"marker\":{\"line\":{\"color\":\"#E5ECF6\",\"width\":0.5},\"pattern\":{\"fillmode\":\"overlay\",\"size\":10,\"solidity\":0.2}},\"type\":\"barpolar\"}],\"carpet\":[{\"aaxis\":{\"endlinecolor\":\"#2a3f5f\",\"gridcolor\":\"white\",\"linecolor\":\"white\",\"minorgridcolor\":\"white\",\"startlinecolor\":\"#2a3f5f\"},\"baxis\":{\"endlinecolor\":\"#2a3f5f\",\"gridcolor\":\"white\",\"linecolor\":\"white\",\"minorgridcolor\":\"white\",\"startlinecolor\":\"#2a3f5f\"},\"type\":\"carpet\"}],\"choropleth\":[{\"colorbar\":{\"outlinewidth\":0,\"ticks\":\"\"},\"type\":\"choropleth\"}],\"contour\":[{\"colorbar\":{\"outlinewidth\":0,\"ticks\":\"\"},\"colorscale\":[[0.0,\"#0d0887\"],[0.1111111111111111,\"#46039f\"],[0.2222222222222222,\"#7201a8\"],[0.3333333333333333,\"#9c179e\"],[0.4444444444444444,\"#bd3786\"],[0.5555555555555556,\"#d8576b\"],[0.6666666666666666,\"#ed7953\"],[0.7777777777777778,\"#fb9f3a\"],[0.8888888888888888,\"#fdca26\"],[1.0,\"#f0f921\"]],\"type\":\"contour\"}],\"contourcarpet\":[{\"colorbar\":{\"outlinewidth\":0,\"ticks\":\"\"},\"type\":\"contourcarpet\"}],\"heatmap\":[{\"colorbar\":{\"outlinewidth\":0,\"ticks\":\"\"},\"colorscale\":[[0.0,\"#0d0887\"],[0.1111111111111111,\"#46039f\"],[0.2222222222222222,\"#7201a8\"],[0.3333333333333333,\"#9c179e\"],[0.4444444444444444,\"#bd3786\"],[0.5555555555555556,\"#d8576b\"],[0.6666666666666666,\"#ed7953\"],[0.7777777777777778,\"#fb9f3a\"],[0.8888888888888888,\"#fdca26\"],[1.0,\"#f0f921\"]],\"type\":\"heatmap\"}],\"heatmapgl\":[{\"colorbar\":{\"outlinewidth\":0,\"ticks\":\"\"},\"colorscale\":[[0.0,\"#0d0887\"],[0.1111111111111111,\"#46039f\"],[0.2222222222222222,\"#7201a8\"],[0.3333333333333333,\"#9c179e\"],[0.4444444444444444,\"#bd3786\"],[0.5555555555555556,\"#d8576b\"],[0.6666666666666666,\"#ed7953\"],[0.7777777777777778,\"#fb9f3a\"],[0.8888888888888888,\"#fdca26\"],[1.0,\"#f0f921\"]],\"type\":\"heatmapgl\"}],\"histogram\":[{\"marker\":{\"pattern\":{\"fillmode\":\"overlay\",\"size\":10,\"solidity\":0.2}},\"type\":\"histogram\"}],\"histogram2d\":[{\"colorbar\":{\"outlinewidth\":0,\"ticks\":\"\"},\"colorscale\":[[0.0,\"#0d0887\"],[0.1111111111111111,\"#46039f\"],[0.2222222222222222,\"#7201a8\"],[0.3333333333333333,\"#9c179e\"],[0.4444444444444444,\"#bd3786\"],[0.5555555555555556,\"#d8576b\"],[0.6666666666666666,\"#ed7953\"],[0.7777777777777778,\"#fb9f3a\"],[0.8888888888888888,\"#fdca26\"],[1.0,\"#f0f921\"]],\"type\":\"histogram2d\"}],\"histogram2dcontour\":[{\"colorbar\":{\"outlinewidth\":0,\"ticks\":\"\"},\"colorscale\":[[0.0,\"#0d0887\"],[0.1111111111111111,\"#46039f\"],[0.2222222222222222,\"#7201a8\"],[0.3333333333333333,\"#9c179e\"],[0.4444444444444444,\"#bd3786\"],[0.5555555555555556,\"#d8576b\"],[0.6666666666666666,\"#ed7953\"],[0.7777777777777778,\"#fb9f3a\"],[0.8888888888888888,\"#fdca26\"],[1.0,\"#f0f921\"]],\"type\":\"histogram2dcontour\"}],\"mesh3d\":[{\"colorbar\":{\"outlinewidth\":0,\"ticks\":\"\"},\"type\":\"mesh3d\"}],\"parcoords\":[{\"line\":{\"colorbar\":{\"outlinewidth\":0,\"ticks\":\"\"}},\"type\":\"parcoords\"}],\"pie\":[{\"automargin\":true,\"type\":\"pie\"}],\"scatter\":[{\"marker\":{\"colorbar\":{\"outlinewidth\":0,\"ticks\":\"\"}},\"type\":\"scatter\"}],\"scatter3d\":[{\"line\":{\"colorbar\":{\"outlinewidth\":0,\"ticks\":\"\"}},\"marker\":{\"colorbar\":{\"outlinewidth\":0,\"ticks\":\"\"}},\"type\":\"scatter3d\"}],\"scattercarpet\":[{\"marker\":{\"colorbar\":{\"outlinewidth\":0,\"ticks\":\"\"}},\"type\":\"scattercarpet\"}],\"scattergeo\":[{\"marker\":{\"colorbar\":{\"outlinewidth\":0,\"ticks\":\"\"}},\"type\":\"scattergeo\"}],\"scattergl\":[{\"marker\":{\"colorbar\":{\"outlinewidth\":0,\"ticks\":\"\"}},\"type\":\"scattergl\"}],\"scattermapbox\":[{\"marker\":{\"colorbar\":{\"outlinewidth\":0,\"ticks\":\"\"}},\"type\":\"scattermapbox\"}],\"scatterpolar\":[{\"marker\":{\"colorbar\":{\"outlinewidth\":0,\"ticks\":\"\"}},\"type\":\"scatterpolar\"}],\"scatterpolargl\":[{\"marker\":{\"colorbar\":{\"outlinewidth\":0,\"ticks\":\"\"}},\"type\":\"scatterpolargl\"}],\"scatterternary\":[{\"marker\":{\"colorbar\":{\"outlinewidth\":0,\"ticks\":\"\"}},\"type\":\"scatterternary\"}],\"surface\":[{\"colorbar\":{\"outlinewidth\":0,\"ticks\":\"\"},\"colorscale\":[[0.0,\"#0d0887\"],[0.1111111111111111,\"#46039f\"],[0.2222222222222222,\"#7201a8\"],[0.3333333333333333,\"#9c179e\"],[0.4444444444444444,\"#bd3786\"],[0.5555555555555556,\"#d8576b\"],[0.6666666666666666,\"#ed7953\"],[0.7777777777777778,\"#fb9f3a\"],[0.8888888888888888,\"#fdca26\"],[1.0,\"#f0f921\"]],\"type\":\"surface\"}],\"table\":[{\"cells\":{\"fill\":{\"color\":\"#EBF0F8\"},\"line\":{\"color\":\"white\"}},\"header\":{\"fill\":{\"color\":\"#C8D4E3\"},\"line\":{\"color\":\"white\"}},\"type\":\"table\"}]},\"layout\":{\"annotationdefaults\":{\"arrowcolor\":\"#2a3f5f\",\"arrowhead\":0,\"arrowwidth\":1},\"autotypenumbers\":\"strict\",\"coloraxis\":{\"colorbar\":{\"outlinewidth\":0,\"ticks\":\"\"}},\"colorscale\":{\"diverging\":[[0,\"#8e0152\"],[0.1,\"#c51b7d\"],[0.2,\"#de77ae\"],[0.3,\"#f1b6da\"],[0.4,\"#fde0ef\"],[0.5,\"#f7f7f7\"],[0.6,\"#e6f5d0\"],[0.7,\"#b8e186\"],[0.8,\"#7fbc41\"],[0.9,\"#4d9221\"],[1,\"#276419\"]],\"sequential\":[[0.0,\"#0d0887\"],[0.1111111111111111,\"#46039f\"],[0.2222222222222222,\"#7201a8\"],[0.3333333333333333,\"#9c179e\"],[0.4444444444444444,\"#bd3786\"],[0.5555555555555556,\"#d8576b\"],[0.6666666666666666,\"#ed7953\"],[0.7777777777777778,\"#fb9f3a\"],[0.8888888888888888,\"#fdca26\"],[1.0,\"#f0f921\"]],\"sequentialminus\":[[0.0,\"#0d0887\"],[0.1111111111111111,\"#46039f\"],[0.2222222222222222,\"#7201a8\"],[0.3333333333333333,\"#9c179e\"],[0.4444444444444444,\"#bd3786\"],[0.5555555555555556,\"#d8576b\"],[0.6666666666666666,\"#ed7953\"],[0.7777777777777778,\"#fb9f3a\"],[0.8888888888888888,\"#fdca26\"],[1.0,\"#f0f921\"]]},\"colorway\":[\"#636efa\",\"#EF553B\",\"#00cc96\",\"#ab63fa\",\"#FFA15A\",\"#19d3f3\",\"#FF6692\",\"#B6E880\",\"#FF97FF\",\"#FECB52\"],\"font\":{\"color\":\"#2a3f5f\"},\"geo\":{\"bgcolor\":\"white\",\"lakecolor\":\"white\",\"landcolor\":\"#E5ECF6\",\"showlakes\":true,\"showland\":true,\"subunitcolor\":\"white\"},\"hoverlabel\":{\"align\":\"left\"},\"hovermode\":\"closest\",\"mapbox\":{\"style\":\"light\"},\"paper_bgcolor\":\"white\",\"plot_bgcolor\":\"#E5ECF6\",\"polar\":{\"angularaxis\":{\"gridcolor\":\"white\",\"linecolor\":\"white\",\"ticks\":\"\"},\"bgcolor\":\"#E5ECF6\",\"radialaxis\":{\"gridcolor\":\"white\",\"linecolor\":\"white\",\"ticks\":\"\"}},\"scene\":{\"xaxis\":{\"backgroundcolor\":\"#E5ECF6\",\"gridcolor\":\"white\",\"gridwidth\":2,\"linecolor\":\"white\",\"showbackground\":true,\"ticks\":\"\",\"zerolinecolor\":\"white\"},\"yaxis\":{\"backgroundcolor\":\"#E5ECF6\",\"gridcolor\":\"white\",\"gridwidth\":2,\"linecolor\":\"white\",\"showbackground\":true,\"ticks\":\"\",\"zerolinecolor\":\"white\"},\"zaxis\":{\"backgroundcolor\":\"#E5ECF6\",\"gridcolor\":\"white\",\"gridwidth\":2,\"linecolor\":\"white\",\"showbackground\":true,\"ticks\":\"\",\"zerolinecolor\":\"white\"}},\"shapedefaults\":{\"line\":{\"color\":\"#2a3f5f\"}},\"ternary\":{\"aaxis\":{\"gridcolor\":\"white\",\"linecolor\":\"white\",\"ticks\":\"\"},\"baxis\":{\"gridcolor\":\"white\",\"linecolor\":\"white\",\"ticks\":\"\"},\"bgcolor\":\"#E5ECF6\",\"caxis\":{\"gridcolor\":\"white\",\"linecolor\":\"white\",\"ticks\":\"\"}},\"title\":{\"x\":0.05},\"xaxis\":{\"automargin\":true,\"gridcolor\":\"white\",\"linecolor\":\"white\",\"ticks\":\"\",\"title\":{\"standoff\":15},\"zerolinecolor\":\"white\",\"zerolinewidth\":2},\"yaxis\":{\"automargin\":true,\"gridcolor\":\"white\",\"linecolor\":\"white\",\"ticks\":\"\",\"title\":{\"standoff\":15},\"zerolinecolor\":\"white\",\"zerolinewidth\":2}}},\"xaxis\":{\"anchor\":\"y\",\"domain\":[0.0,1.0],\"title\":{\"text\":\"Quantidade\"}},\"yaxis\":{\"anchor\":\"x\",\"domain\":[0.0,1.0],\"title\":{\"text\":\"Categoria\"}},\"legend\":{\"title\":{\"text\":\"Dados\"},\"tracegroupgap\":0},\"margin\":{\"t\":60},\"barmode\":\"relative\"},                        {\"responsive\": true}                    ).then(function(){\n",
       "                            \n",
       "var gd = document.getElementById('e814deea-7efc-4266-b618-0fb5d71b7bcb');\n",
       "var x = new MutationObserver(function (mutations, observer) {{\n",
       "        var display = window.getComputedStyle(gd).display;\n",
       "        if (!display || display === 'none') {{\n",
       "            console.log([gd, 'removed!']);\n",
       "            Plotly.purge(gd);\n",
       "            observer.disconnect();\n",
       "        }}\n",
       "}});\n",
       "\n",
       "// Listen for the removal of the full notebook cells\n",
       "var notebookContainer = gd.closest('#notebook-container');\n",
       "if (notebookContainer) {{\n",
       "    x.observe(notebookContainer, {childList: true});\n",
       "}}\n",
       "\n",
       "// Listen for the clearing of the current output cell\n",
       "var outputEl = gd.closest('.output');\n",
       "if (outputEl) {{\n",
       "    x.observe(outputEl, {childList: true});\n",
       "}}\n",
       "\n",
       "                        })                };                });            </script>        </div>"
      ]
     },
     "metadata": {},
     "output_type": "display_data"
    }
   ],
   "source": [
    "df1 = pd.DataFrame({\"Dados\": ['Base 1' for i in range(31)], \"Categoria\": list(qtd_cat_base1.keys()), \"Quantidade\": list(qtd_cat_base1.values())})\n",
    "df2 = pd.DataFrame({\"Dados\": ['Base 2' for i in range(31)], \"Categoria\": list(qtd_cat_base2.keys()), \"Quantidade\": list(qtd_cat_base2.values())})\n",
    "\n",
    "fig = px.bar(pd.concat([df1, df2]), color='Dados', y='Categoria', x='Quantidade')\n",
    "fig.show()"
   ]
  },
  {
   "cell_type": "code",
   "execution_count": 432,
   "metadata": {},
   "outputs": [
    {
     "data": {
      "image/png": "[encoded data removed]",
      "text/plain": [
       "<Figure size 540x252 with 1 Axes>"
      ]
     },
     "metadata": {
      "needs_background": "light"
     },
     "output_type": "display_data"
    }
   ],
   "source": [
    "import numpy as np\n",
    "from matplotlib import pyplot as plt\n",
    "\n",
    "plt.rcParams[\"figure.figsize\"] = [7.50, 3.50]\n",
    "plt.rcParams[\"figure.autolayout\"] = True\n",
    "\n",
    "N = 500\n",
    "data = np.random.randn(N)\n",
    "count, bins_count = np.histogram(list(qtd_cat_base2.values()), bins=10)\n",
    "pdf = count / sum(count)\n",
    "cdf = np.cumsum(pdf)\n",
    "plt.plot(bins_count[1:], cdf, label=\"CDF\")\n",
    "plt.legend()\n",
    "plt.show()\n"
   ]
  },
  {
   "cell_type": "markdown",
   "metadata": {},
   "source": [
    "# PREPARING DATA"
   ]
  },
  {
   "cell_type": "code",
   "execution_count": 433,
   "metadata": {},
   "outputs": [
    {
     "data": {
      "text/plain": [
       "['amizade',\n",
       " 'games e jogos',\n",
       " 'outros',\n",
       " 'ganhar dinheiro',\n",
       " 'desenhos e animes',\n",
       " 'memes, engraçados e zoeira']"
      ]
     },
     "execution_count": 433,
     "metadata": {},
     "output_type": "execute_result"
    }
   ],
   "source": [
    "catego = [cat[0] for cat in Counter(df_base1['category']).most_common() if cat[1] > 1000]\n",
    "catego"
   ]
  },
  {
   "cell_type": "code",
   "execution_count": 435,
   "metadata": {},
   "outputs": [
    {
     "name": "stdout",
     "output_type": "stream",
     "text": [
      "                                              description  \\\n",
      "0       zueira e figurinhas bem vindoa\\ngrupo pra vc c...   \n",
      "2       trabalhe pelo celular   chegou a hora de traba...   \n",
      "4        hora de lucrar   dinheiro fixo por semana ren...   \n",
      "7       ν θғ տ  grupo sobre animes conheça pessoas con...   \n",
      "8       league of zueira brasil grupo para você que jo...   \n",
      "...                                                   ...   \n",
      "196574   troque figurinhas  sejam bem vindos grupo par...   \n",
      "196575  •músicas eletrônicas• seja ativo e colabore co...   \n",
      "196577   the voice  o melhor grupo de the voice do wha...   \n",
      "196578  tokyo spot grupo para fãs de animação japonesa...   \n",
      "196579  english dynamics quer aperfeiçoar a comunicaçã...   \n",
      "\n",
      "                     category  \n",
      "0       figurinhas e stickers  \n",
      "2             ganhar dinheiro  \n",
      "4             ganhar dinheiro  \n",
      "7           desenhos e animes  \n",
      "8               games e jogos  \n",
      "...                       ...  \n",
      "196574  figurinhas e stickers  \n",
      "196575                 música  \n",
      "196577                 música  \n",
      "196578      desenhos e animes  \n",
      "196579               educação  \n",
      "\n",
      "[107092 rows x 2 columns]\n"
     ]
    }
   ],
   "source": [
    "df_base1.drop(index=df_base1[df_base1['category'] == 'amizade'].index, inplace=True)\n",
    "df_base2.drop(index=df_base2[df_base2['category'] == 'amizade'].index, inplace=True)\n",
    "df_base1.drop(index=df_base1[df_base1['category'] == 'memes, engraçados e zoeira'].index, inplace=True)\n",
    "df_base2.drop(index=df_base2[df_base2['category'] == 'memes, engraçados e zoeira'].index, inplace=True)\n",
    "df_base1.drop(index=df_base1[df_base1['category'] == 'outros'].index, inplace=True)\n",
    "df_base2.drop(index=df_base2[df_base2['category'] == 'outros'].index, inplace=True)\n",
    "\n",
    "#remover: memes, engraçados e zoeira\n",
    "#vagas de emprego e ganhar dinheiro\n",
    "#remover: profissões, links de grupos\n",
    "#tv > desenhos e animes\n",
    "#amor romance > namoro\n",
    "#educação>concurso\n",
    "#remover: links de grupos\n",
    "#remover: cidades\n",
    "\n",
    "df_base2.loc[(df_base2.category == 'vagas de empregos'),'category']='ganhar dinheiro'\n",
    "\n",
    "print(df_base2)"
   ]
  },
  {
   "cell_type": "code",
   "execution_count": 438,
   "metadata": {},
   "outputs": [
    {
     "data": {
      "text/html": [
       "<div>\n",
       "<style scoped>\n",
       "    .dataframe tbody tr th:only-of-type {\n",
       "        vertical-align: middle;\n",
       "    }\n",
       "\n",
       "    .dataframe tbody tr th {\n",
       "        vertical-align: top;\n",
       "    }\n",
       "\n",
       "    .dataframe thead th {\n",
       "        text-align: right;\n",
       "    }\n",
       "</style>\n",
       "<table border=\"1\" class=\"dataframe\">\n",
       "  <thead>\n",
       "    <tr style=\"text-align: right;\">\n",
       "      <th></th>\n",
       "      <th>description</th>\n",
       "      <th>category</th>\n",
       "    </tr>\n",
       "  </thead>\n",
       "  <tbody>\n",
       "    <tr>\n",
       "      <th>0</th>\n",
       "      <td>stranger things grupo para amizades e conversa...</td>\n",
       "      <td>filmes e séries</td>\n",
       "    </tr>\n",
       "    <tr>\n",
       "      <th>1</th>\n",
       "      <td>canais filmes e séries conheça a melhor lista ...</td>\n",
       "      <td>tv</td>\n",
       "    </tr>\n",
       "    <tr>\n",
       "      <th>4</th>\n",
       "      <td>cristo nosso salvador muitas pessoas hoje acha...</td>\n",
       "      <td>religião</td>\n",
       "    </tr>\n",
       "    <tr>\n",
       "      <th>6</th>\n",
       "      <td>flamengo crf oficial lll o domingo é do mengo ...</td>\n",
       "      <td>futebol</td>\n",
       "    </tr>\n",
       "    <tr>\n",
       "      <th>7</th>\n",
       "      <td>flamengo crf oficial ll o respeito a todos é f...</td>\n",
       "      <td>futebol</td>\n",
       "    </tr>\n",
       "    <tr>\n",
       "      <th>...</th>\n",
       "      <td>...</td>\n",
       "      <td>...</td>\n",
       "    </tr>\n",
       "    <tr>\n",
       "      <th>28299</th>\n",
       "      <td>crush 24h  esse grupo é pra vc acha seu amor o...</td>\n",
       "      <td>amor e romance</td>\n",
       "    </tr>\n",
       "    <tr>\n",
       "      <th>28301</th>\n",
       "      <td>pop music 40   é obrigatório sempre que for ma...</td>\n",
       "      <td>música</td>\n",
       "    </tr>\n",
       "    <tr>\n",
       "      <th>28305</th>\n",
       "      <td>äbïgūínhøs ø criei este grupo com o intuito de...</td>\n",
       "      <td>desenhos e animes</td>\n",
       "    </tr>\n",
       "    <tr>\n",
       "      <th>28311</th>\n",
       "      <td>1kilo fans da 1kilo</td>\n",
       "      <td>música</td>\n",
       "    </tr>\n",
       "    <tr>\n",
       "      <th>28316</th>\n",
       "      <td>ajuda mutua carlão ganhar dinheiro</td>\n",
       "      <td>ganhar dinheiro</td>\n",
       "    </tr>\n",
       "  </tbody>\n",
       "</table>\n",
       "<p>16871 rows × 2 columns</p>\n",
       "</div>"
      ],
      "text/plain": [
       "                                             description           category\n",
       "0      stranger things grupo para amizades e conversa...    filmes e séries\n",
       "1      canais filmes e séries conheça a melhor lista ...                 tv\n",
       "4      cristo nosso salvador muitas pessoas hoje acha...           religião\n",
       "6      flamengo crf oficial lll o domingo é do mengo ...            futebol\n",
       "7      flamengo crf oficial ll o respeito a todos é f...            futebol\n",
       "...                                                  ...                ...\n",
       "28299  crush 24h  esse grupo é pra vc acha seu amor o...     amor e romance\n",
       "28301  pop music 40   é obrigatório sempre que for ma...             música\n",
       "28305  äbïgūínhøs ø criei este grupo com o intuito de...  desenhos e animes\n",
       "28311                                1kilo fans da 1kilo             música\n",
       "28316                 ajuda mutua carlão ganhar dinheiro    ganhar dinheiro\n",
       "\n",
       "[16871 rows x 2 columns]"
      ]
     },
     "execution_count": 438,
     "metadata": {},
     "output_type": "execute_result"
    }
   ],
   "source": [
    "df_base1"
   ]
  },
  {
   "cell_type": "code",
   "execution_count": 437,
   "metadata": {},
   "outputs": [],
   "source": [
    "df_base1.drop(index=df_base1[df_base1['description'] == ''].index, inplace=True)\n",
    "df_base1.drop(index=df_base1[df_base1['description'] == ' '].index, inplace=True)\n",
    "\n",
    "df_base2.drop(index=df_base2[df_base2['description'] == ''].index, inplace=True)\n",
    "df_base2.drop(index=df_base2[df_base2['description'] == ' '].index, inplace=True)"
   ]
  },
  {
   "cell_type": "code",
   "execution_count": 239,
   "metadata": {},
   "outputs": [
    {
     "name": "stdout",
     "output_type": "stream",
     "text": [
      "6\n"
     ]
    }
   ],
   "source": [
    "df_base1 = df_base1[df_base1['category'].isin(catego)]\n",
    "df_base2 = df_base2[df_base2['category'].isin(catego)]\n"
   ]
  },
  {
   "cell_type": "code",
   "execution_count": 439,
   "metadata": {},
   "outputs": [
    {
     "name": "stdout",
     "output_type": "stream",
     "text": [
      "27\n"
     ]
    }
   ],
   "source": [
    "print(len(set(df_base2['category'])))"
   ]
  },
  {
   "cell_type": "markdown",
   "metadata": {},
   "source": [
    "## Tokenize the sentences"
   ]
  },
  {
   "cell_type": "code",
   "execution_count": 453,
   "metadata": {},
   "outputs": [],
   "source": [
    "all_descriptions = list(df_base1['description'])\n",
    "all_descriptions.extend(list(df_base2['description']))\n",
    "\n",
    "word_tokenizer = Tokenizer(split = ' ')\n",
    "word_tokenizer.fit_on_texts(all_descriptions)\n",
    "\n",
    "MAX_WORDS_SENTENCES = 110\n",
    "\n",
    "SENTENCES_BASE1 = word_tokenizer.texts_to_sequences(df_base1['description']) \n",
    "SENTENCES_BASE1 = pad_sequences(SENTENCES_BASE1, maxlen = MAX_WORDS_SENTENCES, padding=\"pre\", truncating=\"post\")\n",
    "\n",
    "SENTENCES_BASE2 = word_tokenizer.texts_to_sequences(df_base2['description']) \n",
    "SENTENCES_BASE2 = pad_sequences(SENTENCES_BASE2, maxlen = MAX_WORDS_SENTENCES, padding=\"pre\", truncating=\"post\")"
   ]
  },
  {
   "cell_type": "code",
   "execution_count": 451,
   "metadata": {},
   "outputs": [],
   "source": [
    "maior = 0\n",
    "for c in all_descriptions:\n",
    "    if maior < len(c.split(' ')):\n",
    "        maior = len(c.split(' '))"
   ]
  },
  {
   "cell_type": "code",
   "execution_count": 454,
   "metadata": {},
   "outputs": [],
   "source": [
    "VOCABULARY_SIZE = len(word_tokenizer.word_index) + 1"
   ]
  },
  {
   "cell_type": "code",
   "execution_count": 455,
   "metadata": {},
   "outputs": [
    {
     "data": {
      "text/plain": [
       "110"
      ]
     },
     "execution_count": 455,
     "metadata": {},
     "output_type": "execute_result"
    }
   ],
   "source": [
    "MAX_WORDS_SENTENCES"
   ]
  },
  {
   "cell_type": "markdown",
   "metadata": {},
   "source": [
    "## Tokenize Output"
   ]
  },
  {
   "cell_type": "code",
   "execution_count": 456,
   "metadata": {},
   "outputs": [
    {
     "name": "stdout",
     "output_type": "stream",
     "text": [
      "ALL:  ['ganhar dinheiro', 'festas, baladas e eventos', 'links de grupos', 'política', 'profissões', 'amor e romance', 'receitas', 'carros e motos', 'religião', 'filmes e séries', 'futebol', 'moda e beleza', 'fãs', 'educação', 'games e jogos', 'esportes e academia', 'concursos', 'tv', 'figurinhas e stickers', 'música', 'vagas de empregos', 'notícias', 'redes sociais', 'cidades', 'namoro', 'emagrecimento e perda de peso', 'desenhos e animes', 'frases e mensagens']\n",
      "28\n"
     ]
    }
   ],
   "source": [
    "ALL_CATEGORIES = list(set(df_base1['category']))\n",
    "CATEGORY_BASE1 = [ALL_CATEGORIES.index(cat) for cat in df_base1['category']] \n",
    "CATEGORY_BASE2 = [ALL_CATEGORIES.index(cat) for cat in df_base2['category']] \n",
    "\n",
    "print('ALL: ', ALL_CATEGORIES)\n",
    "print(len(ALL_CATEGORIES))"
   ]
  },
  {
   "cell_type": "code",
   "execution_count": 367,
   "metadata": {},
   "outputs": [],
   "source": [
    "class_weights_values = dict(zip(np.unique(CATEGORY_BASE1), class_weight.compute_class_weight(class_weight='balanced', classes=np.unique(CATEGORY_BASE1), y=CATEGORY_BASE1)))"
   ]
  },
  {
   "cell_type": "code",
   "execution_count": 457,
   "metadata": {},
   "outputs": [
    {
     "name": "stdout",
     "output_type": "stream",
     "text": [
      "\n",
      "SHAPE:  (16871, 28)\n"
     ]
    }
   ],
   "source": [
    "CATEGORY_BASE1 = util.np_utils.to_categorical(CATEGORY_BASE1, 28)\n",
    "CATEGORY_BASE2 = util.np_utils.to_categorical(CATEGORY_BASE2, 28)\n",
    "\n",
    "print('\\nSHAPE: ', CATEGORY_BASE1.shape)\n"
   ]
  },
  {
   "cell_type": "code",
   "execution_count": 517,
   "metadata": {},
   "outputs": [
    {
     "name": "stdout",
     "output_type": "stream",
     "text": [
      "\n",
      "SHAPE:  (107092, 28)\n"
     ]
    },
    {
     "data": {
      "text/plain": [
       "28"
      ]
     },
     "execution_count": 517,
     "metadata": {},
     "output_type": "execute_result"
    }
   ],
   "source": [
    "print('\\nSHAPE: ', CATEGORY_BASE2.shape)\n",
    "len(CATEGORY_BASE1[0])"
   ]
  },
  {
   "cell_type": "code",
   "execution_count": 459,
   "metadata": {},
   "outputs": [
    {
     "data": {
      "text/plain": [
       "'①bιʅʅιҽ ҽιʅιʂԋ  ɱυƚιɾασ proibido conteúdo adulto proibido trava zap proibido chingamento proibido entrar no pv sem permissão proibido divulgar links de outro grupo só mente link do seu instagram sejam ativos sejam todos bem vindos ao maior projeto de engajamento'"
      ]
     },
     "execution_count": 459,
     "metadata": {},
     "output_type": "execute_result"
    }
   ],
   "source": [
    "max(df_base1['description'])"
   ]
  },
  {
   "cell_type": "code",
   "execution_count": 460,
   "metadata": {},
   "outputs": [
    {
     "data": {
      "text/plain": [
       "array([0., 0., 0., 0., 0.], dtype=float32)"
      ]
     },
     "execution_count": 460,
     "metadata": {},
     "output_type": "execute_result"
    }
   ],
   "source": [
    "list(SENTENCES_BASE1[0][:5])\n",
    "CATEGORY_BASE1[0][:5]"
   ]
  },
  {
   "cell_type": "markdown",
   "metadata": {},
   "source": [
    "# Load Embeddings\n"
   ]
  },
  {
   "cell_type": "code",
   "execution_count": 461,
   "metadata": {},
   "outputs": [],
   "source": [
    "def load_word_embedding(word_index, dimension_embedding):\n",
    "    dic_embedding = {}\n",
    "    \n",
    "    file_embedding = open(os.path.join(EMBEDDING_PATH, \"skip_s{}.txt\".format(dimension_embedding)), encoding='utf-8')\n",
    "    \n",
    "    #Carregando os WordEmbeddings para um dicionario\n",
    "    for line in tqdm(file_embedding):\n",
    "        values = line.rstrip().rsplit(' ')\n",
    "        word = values[0]\n",
    "        coefficient = np.asarray(values[1:], dtype='float32')\n",
    "        dic_embedding[word] = coefficient\n",
    "            \n",
    "    file_embedding.close()\n",
    "    \n",
    "    #Cria a matrix com em que serão carregados os embeddings\n",
    "    matrix_embedding = np.zeros((VOCABULARY_SIZE, dimension_embedding))\n",
    "    \n",
    "    for word, i in word_index.items():\n",
    "        if i >= VOCABULARY_SIZE:\n",
    "            continue\n",
    "        \n",
    "        vector_embedding = dic_embedding.get(word)\n",
    "        \n",
    "        if vector_embedding is not None:\n",
    "            matrix_embedding[i] = vector_embedding\n",
    "\n",
    "    return matrix_embedding"
   ]
  },
  {
   "cell_type": "code",
   "execution_count": 462,
   "metadata": {},
   "outputs": [
    {
     "name": "stderr",
     "output_type": "stream",
     "text": [
      "929607it [00:10, 86863.85it/s]\n"
     ]
    }
   ],
   "source": [
    "MATRIX_EMBEDDING = load_word_embedding(word_tokenizer.word_index, EMBEDDING_SIZE)"
   ]
  },
  {
   "cell_type": "markdown",
   "metadata": {},
   "source": [
    "# Model"
   ]
  },
  {
   "cell_type": "code",
   "execution_count": 513,
   "metadata": {},
   "outputs": [],
   "source": [
    "cnn_model = Sequential()\n",
    "cnn_model.add(Embedding(input_dim     = VOCABULARY_SIZE,         # number of unique words\n",
    "                         output_dim    = EMBEDDING_SIZE,          # 300 - length of vector word embedding matrix\n",
    "                         input_length  = MAX_WORDS_SENTENCES,     # 250 - length of input sequence\n",
    "                         weights       = [MATRIX_EMBEDDING],      # word embedding matrix\n",
    "                         trainable     = True                    # True - update embeddings_weight matrix in the training\n",
    "                         #mask_zero     = True                     # True - Remove the paddings importance: https://www.tensorflow.org/guide/keras/masking_and_padding || https://data-flair.training/blogs/masking-and-padding-in-keras/\n",
    "))\n",
    "\n",
    "cnn_model.add(Bidirectional(LSTM(64, return_sequences=True, recurrent_dropout=0.1)))\n",
    "cnn_model.add(Flatten())\n",
    "cnn_model.add(Dense(128, activation='relu'))\n",
    "cnn_model.add(Dense(28, activation='softmax'))"
   ]
  },
  {
   "cell_type": "code",
   "execution_count": 514,
   "metadata": {},
   "outputs": [
    {
     "name": "stdout",
     "output_type": "stream",
     "text": [
      "Model: \"sequential_40\"\n",
      "_________________________________________________________________\n",
      "Layer (type)                 Output Shape              Param #   \n",
      "=================================================================\n",
      "embedding_40 (Embedding)     (None, 110, 50)           5772350   \n",
      "_________________________________________________________________\n",
      "bidirectional_24 (Bidirectio (None, 110, 128)          58880     \n",
      "_________________________________________________________________\n",
      "flatten_33 (Flatten)         (None, 14080)             0         \n",
      "_________________________________________________________________\n",
      "dense_63 (Dense)             (None, 128)               1802368   \n",
      "_________________________________________________________________\n",
      "dense_64 (Dense)             (None, 28)                3612      \n",
      "=================================================================\n",
      "Total params: 7,637,210\n",
      "Trainable params: 7,637,210\n",
      "Non-trainable params: 0\n",
      "_________________________________________________________________\n"
     ]
    }
   ],
   "source": [
    "cnn_model.summary()"
   ]
  },
  {
   "cell_type": "code",
   "execution_count": 515,
   "metadata": {},
   "outputs": [],
   "source": [
    "cnn_model.compile(loss      =  'categorical_crossentropy',\n",
    "                   optimizer =  'adam',\n",
    "                   metrics   =  ['acc'])"
   ]
  },
  {
   "cell_type": "code",
   "execution_count": 509,
   "metadata": {},
   "outputs": [
    {
     "data": {
      "text/plain": [
       "107092"
      ]
     },
     "execution_count": 509,
     "metadata": {},
     "output_type": "execute_result"
    }
   ],
   "source": [
    "len(SENTENCES_BASE2)"
   ]
  },
  {
   "cell_type": "code",
   "execution_count": 501,
   "metadata": {},
   "outputs": [
    {
     "data": {
      "text/plain": [
       "10000"
      ]
     },
     "execution_count": 501,
     "metadata": {},
     "output_type": "execute_result"
    }
   ],
   "source": [
    "len(SENTENCES_BASE1[:10000])"
   ]
  },
  {
   "cell_type": "code",
   "execution_count": 518,
   "metadata": {},
   "outputs": [
    {
     "name": "stdout",
     "output_type": "stream",
     "text": [
      "Train on 56000 samples, validate on 14000 samples\n",
      "Epoch 1/5\n",
      "56000/56000 [==============================] - 46s 828us/step - loss: 2.4694 - acc: 0.3358 - val_loss: 1.5706 - val_acc: 0.6016\n",
      "Epoch 2/5\n",
      "56000/56000 [==============================] - 44s 794us/step - loss: 1.7061 - acc: 0.5388 - val_loss: 1.2719 - val_acc: 0.6631\n",
      "Epoch 3/5\n",
      "56000/56000 [==============================] - 44s 791us/step - loss: 1.3290 - acc: 0.6361 - val_loss: 1.1231 - val_acc: 0.7000\n",
      "Epoch 4/5\n",
      "56000/56000 [==============================] - 44s 781us/step - loss: 1.1166 - acc: 0.6971 - val_loss: 1.0374 - val_acc: 0.7242\n",
      "Epoch 5/5\n",
      "56000/56000 [==============================] - 45s 810us/step - loss: 0.9714 - acc: 0.7352 - val_loss: 0.9939 - val_acc: 0.7381\n"
     ]
    },
    {
     "data": {
      "text/plain": [
       "<keras.callbacks.callbacks.History at 0x7f1ce2943fd0>"
      ]
     },
     "execution_count": 518,
     "metadata": {},
     "output_type": "execute_result"
    }
   ],
   "source": [
    "cnn_model.fit(SENTENCES_BASE2[:70000], CATEGORY_BASE2[:70000], batch_size=2024, epochs=5, \n",
    "              #class_weight=class_weights_values, \n",
    "              validation_split=0.2\n",
    "              #validation_data=(SENTENCES_BASE1[27000:28000], CATEGORY_BASE1[27000:28000])\n",
    "             )"
   ]
  },
  {
   "cell_type": "code",
   "execution_count": 523,
   "metadata": {},
   "outputs": [],
   "source": [
    "results = cnn_model.predict(SENTENCES_BASE2[:70000])"
   ]
  },
  {
   "cell_type": "code",
   "execution_count": 533,
   "metadata": {},
   "outputs": [],
   "source": [
    "def plot_confusion_matrix(model, x_train, y_train):    \n",
    "    # Predições\n",
    "    #y_proba = model.predict(x_train)\n",
    "    y_pred = np.argmax(x_train, axis=1)\n",
    "\n",
    "    # Labels (desfaz o one-hot encode)\n",
    "    y_true = np.argmax(y_train, axis=1)\n",
    "\n",
    "    cm = confusion_matrix(y_true, y_pred, normalize='true')\n",
    "    print(classification_report(y_true, y_pred))\n",
    "    classes = list(range(1, 29))\n",
    "    fig, ax = plt.subplots(figsize=(15, 15))\n",
    "    im = ax.imshow(cm, interpolation='nearest', cmap=plt.cm.Blues)\n",
    "    ax.figure.colorbar(im, ax=ax)\n",
    "    ax.set(xticks=np.arange(cm.shape[1]),\n",
    "    yticks=np.arange(cm.shape[0]),\n",
    "    xticklabels=ALL_CATEGORIES, yticklabels=ALL_CATEGORIES,\n",
    "    title=\"Matriz de Confusão\",\n",
    "    ylabel=\"Real\",\n",
    "    xlabel=\"Predito\")\n",
    "\n",
    "    plt.setp(ax.get_xticklabels(), rotation=45, ha=\"right\",\n",
    "    rotation_mode=\"anchor\")\n",
    "\n",
    "    #for i in range(cm.shape[0]):\n",
    "        #for j in range(cm.shape[1]):\n",
    "            #ax.text(j, i, format(cm[i, j], \"d\"),\n",
    "                #ha=\"center\", va=\"center\",\n",
    "                #color=\"white\" if cm[i, j] > cm.max()/2. else \"black\")\n",
    "    fig.tight_layout()\n",
    "    plt.show()"
   ]
  },
  {
   "cell_type": "code",
   "execution_count": 534,
   "metadata": {
    "scrolled": false
   },
   "outputs": [
    {
     "name": "stdout",
     "output_type": "stream",
     "text": [
      "              precision    recall  f1-score   support\n",
      "\n",
      "           0       0.79      0.88      0.84      6425\n",
      "           1       0.38      0.01      0.02      1351\n",
      "           2       0.49      0.32      0.38      2189\n",
      "           3       0.82      0.81      0.81       510\n",
      "           4       0.60      0.13      0.21       404\n",
      "           5       0.55      0.82      0.66      3806\n",
      "           6       0.79      0.33      0.46       211\n",
      "           7       0.62      0.40      0.49       401\n",
      "           8       0.81      0.85      0.83      1629\n",
      "           9       0.60      0.42      0.49      1128\n",
      "          10       0.63      0.69      0.66      1331\n",
      "          11       0.76      0.75      0.75      1036\n",
      "          12       0.62      0.61      0.61      3855\n",
      "          13       0.75      0.76      0.75      1445\n",
      "          14       0.82      0.93      0.87     18585\n",
      "          15       0.52      0.21      0.30      1949\n",
      "          16       0.70      0.31      0.43       470\n",
      "          17       0.65      0.24      0.35       309\n",
      "          18       0.91      0.84      0.87      3317\n",
      "          19       0.77      0.70      0.74      1305\n",
      "          21       0.76      0.58      0.66       390\n",
      "          22       0.75      0.86      0.81      7335\n",
      "          23       0.63      0.27      0.37       298\n",
      "          24       0.83      0.01      0.03       779\n",
      "          25       0.83      0.85      0.84       779\n",
      "          26       0.80      0.83      0.82      8188\n",
      "          27       0.86      0.52      0.65       575\n",
      "\n",
      "    accuracy                           0.76     70000\n",
      "   macro avg       0.71      0.55      0.58     70000\n",
      "weighted avg       0.75      0.76      0.74     70000\n",
      "\n"
     ]
    },
    {
     "data": {
      "image/png": "[encoded data removed]",
      "text/plain": [
       "<Figure size 1080x1080 with 2 Axes>"
      ]
     },
     "metadata": {
      "needs_background": "light"
     },
     "output_type": "display_data"
    }
   ],
   "source": [
    "plot_confusion_matrix(cnn_model, results, CATEGORY_BASE2[:70000])"
   ]
  },
  {
   "cell_type": "code",
   "execution_count": 478,
   "metadata": {},
   "outputs": [],
   "source": [
    "\n",
    "\n",
    "\n",
    "\n",
    "cnn_model = Sequential()\n",
    "\n",
    "cnn_model.add(Embedding(input_dim     = VOCABULARY_SIZE,         # number of unique words\n",
    "                         output_dim    = EMBEDDING_SIZE,          # 300 - length of vector word embedding matrix\n",
    "                         input_length  = MAX_WORDS_SENTENCES,     # 250 - length of input sequence\n",
    "                         weights       = [MATRIX_EMBEDDING],      # word embedding matrix\n",
    "                         trainable     = True                    # True - update embeddings_weight matrix in the training\n",
    "                         #mask_zero     = True                     # True - Remove the paddings importance: https://www.tensorflow.org/guide/keras/masking_and_padding || https://data-flair.training/blogs/masking-and-padding-in-keras/\n",
    "))\n",
    "\n",
    "cnn_model.add(Conv1D(filters=128, kernel_size=4, padding='same', activation='relu'))\n",
    "cnn_model.add(MaxPooling1D(pool_size=2))\n",
    "cnn_model.add(Conv1D(filters=64, kernel_size=4, padding='same', activation='relu'))\n",
    "cnn_model.add(MaxPooling1D(pool_size=2))\n",
    "cnn_model.add(Conv1D(filters=32, kernel_size=4, padding='same', activation='relu'))\n",
    "cnn_model.add(MaxPooling1D(pool_size=2))\n",
    "cnn_model.add(Flatten())\n",
    "\n",
    "cnn_model.add(Dense(256, activation='relu'))\n",
    "cnn_model.add(Dense(28, activation='sigmoid'))"
   ]
  },
  {
   "cell_type": "code",
   "execution_count": 473,
   "metadata": {},
   "outputs": [],
   "source": [
    "cnn_model.compile(loss      =  'categorical_crossentropy',\n",
    "                   optimizer =  'adam',\n",
    "                   metrics   =  ['acc'])"
   ]
  },
  {
   "cell_type": "code",
   "execution_count": null,
   "metadata": {},
   "outputs": [],
   "source": [
    "cnn_model.fit(SENTENCES_BASE1, CATEGORY_BASE1, batch_size=156, epochs=5, \n",
    "              class_weight=class_weights_values, \n",
    "              validation_split=0.2\n",
    "              #validation_data=(SENTENCES_BASE1[27000:28000], CATEGORY_BASE1[27000:28000])\n",
    "             )"
   ]
  },
  {
   "cell_type": "code",
   "execution_count": 273,
   "metadata": {},
   "outputs": [],
   "source": [
    "def load_model_cnn(matrix_embedding, number_words, dimmension_embedding):    \n",
    "    input_shape = (MAX_WORDS_SENTENCES,)   \n",
    "    \n",
    "    #Camada de Input, recebe os tweets coletados\n",
    "    input_layer = Input(shape=input_shape, name=\"input\", dtype='int32')    \n",
    "    \n",
    "    #Camada de Embedding com os pesos já treinados\n",
    "    embedding = Embedding(number_words, dimmension_embedding, input_length=MAX_WORDS_SENTENCES, weights=[matrix_embedding], trainable=False, name=\"embedding\")(input_layer)\n",
    "    \n",
    "    #Etapa de convolução e pooling\n",
    "    convolution = Conv1D(32, 5, activation='relu', name=\"Convolution\")(embedding)\n",
    "    convolution = Conv1D(64, 4, activation='relu', name=\"Convolution1\")(convolution)\n",
    "    pooling = GlobalMaxPooling1D(name=\"Pooling\")(convolution)\n",
    "    \n",
    "    #Camadas densas totalmente conectadas\n",
    "    #dense1 = Dense(150, activation='relu', name='dense_layer1')(pooling)\n",
    "    #drop = layers.Dropout(0.25, name=\"Dropout1\")(dense1)\n",
    "    output_layer = Dense(31, activation='softmax', name='dense_layer2')(pooling)\n",
    "    \n",
    "    #Criando modelo\n",
    "    model_cnn = Model(input=input_layer, output=[output_layer])    \n",
    "    model_cnn.summary()\n",
    "    \n",
    "    return model_cnn"
   ]
  },
  {
   "cell_type": "code",
   "execution_count": 274,
   "metadata": {},
   "outputs": [
    {
     "name": "stdout",
     "output_type": "stream",
     "text": [
      "Model: \"model_1\"\n",
      "_________________________________________________________________\n",
      "Layer (type)                 Output Shape              Param #   \n",
      "=================================================================\n",
      "input (InputLayer)           (None, 20)                0         \n",
      "_________________________________________________________________\n",
      "embedding (Embedding)        (None, 20, 50)            4225250   \n",
      "_________________________________________________________________\n",
      "Convolution (Conv1D)         (None, 16, 32)            8032      \n",
      "_________________________________________________________________\n",
      "Convolution1 (Conv1D)        (None, 13, 64)            8256      \n",
      "_________________________________________________________________\n",
      "Pooling (GlobalMaxPooling1D) (None, 64)                0         \n",
      "_________________________________________________________________\n",
      "dense_layer2 (Dense)         (None, 31)                2015      \n",
      "=================================================================\n",
      "Total params: 4,243,553\n",
      "Trainable params: 18,303\n",
      "Non-trainable params: 4,225,250\n",
      "_________________________________________________________________\n"
     ]
    },
    {
     "name": "stderr",
     "output_type": "stream",
     "text": [
      "/home/daniel/.local/lib/python3.6/site-packages/ipykernel_launcher.py:21: UserWarning:\n",
      "\n",
      "Update your `Model` call to the Keras 2 API: `Model(inputs=Tensor(\"in..., outputs=[<tf.Tenso...)`\n",
      "\n"
     ]
    }
   ],
   "source": [
    "cnn_model = load_model_cnn(MATRIX_EMBEDDING, VOCABULARY_SIZE, 50)"
   ]
  },
  {
   "cell_type": "code",
   "execution_count": 275,
   "metadata": {},
   "outputs": [],
   "source": [
    "cnn_model.compile(loss      =  'categorical_crossentropy',\n",
    "                   optimizer =  'adam',\n",
    "                   metrics   =  ['acc'])"
   ]
  },
  {
   "cell_type": "code",
   "execution_count": 276,
   "metadata": {},
   "outputs": [
    {
     "ename": "ValueError",
     "evalue": "Error when checking target: expected dense_layer2 to have shape (31,) but got array with shape (6,)",
     "output_type": "error",
     "traceback": [
      "\u001b[0;31m---------------------------------------------------------------------------\u001b[0m",
      "\u001b[0;31mValueError\u001b[0m                                Traceback (most recent call last)",
      "\u001b[0;32m<ipython-input-276-fe4d29869708>\u001b[0m in \u001b[0;36m<module>\u001b[0;34m\u001b[0m\n\u001b[0;32m----> 1\u001b[0;31m \u001b[0mcnn_model\u001b[0m\u001b[0;34m.\u001b[0m\u001b[0mfit\u001b[0m\u001b[0;34m(\u001b[0m\u001b[0mSENTENCES_BASE2\u001b[0m\u001b[0;34m[\u001b[0m\u001b[0;36m0\u001b[0m\u001b[0;34m:\u001b[0m\u001b[0;36m5000\u001b[0m\u001b[0;34m]\u001b[0m\u001b[0;34m,\u001b[0m \u001b[0mCATEGORY_BASE2\u001b[0m\u001b[0;34m[\u001b[0m\u001b[0;36m0\u001b[0m\u001b[0;34m:\u001b[0m\u001b[0;36m5000\u001b[0m\u001b[0;34m]\u001b[0m\u001b[0;34m,\u001b[0m \u001b[0mbatch_size\u001b[0m\u001b[0;34m=\u001b[0m\u001b[0;36m256\u001b[0m\u001b[0;34m,\u001b[0m \u001b[0mepochs\u001b[0m\u001b[0;34m=\u001b[0m\u001b[0;36m5\u001b[0m\u001b[0;34m,\u001b[0m \u001b[0mvalidation_data\u001b[0m\u001b[0;34m=\u001b[0m\u001b[0;34m(\u001b[0m\u001b[0mSENTENCES_BASE2\u001b[0m\u001b[0;34m[\u001b[0m\u001b[0;36m5000\u001b[0m\u001b[0;34m:\u001b[0m\u001b[0;36m6000\u001b[0m\u001b[0;34m]\u001b[0m\u001b[0;34m,\u001b[0m \u001b[0mCATEGORY_BASE2\u001b[0m\u001b[0;34m[\u001b[0m\u001b[0;36m5000\u001b[0m\u001b[0;34m:\u001b[0m\u001b[0;36m6000\u001b[0m\u001b[0;34m]\u001b[0m\u001b[0;34m)\u001b[0m\u001b[0;34m)\u001b[0m\u001b[0;34m\u001b[0m\u001b[0;34m\u001b[0m\u001b[0m\n\u001b[0m",
      "\u001b[0;32m~/.local/lib/python3.6/site-packages/keras/engine/training.py\u001b[0m in \u001b[0;36mfit\u001b[0;34m(self, x, y, batch_size, epochs, verbose, callbacks, validation_split, validation_data, shuffle, class_weight, sample_weight, initial_epoch, steps_per_epoch, validation_steps, validation_freq, max_queue_size, workers, use_multiprocessing, **kwargs)\u001b[0m\n\u001b[1;32m   1152\u001b[0m             \u001b[0msample_weight\u001b[0m\u001b[0;34m=\u001b[0m\u001b[0msample_weight\u001b[0m\u001b[0;34m,\u001b[0m\u001b[0;34m\u001b[0m\u001b[0;34m\u001b[0m\u001b[0m\n\u001b[1;32m   1153\u001b[0m             \u001b[0mclass_weight\u001b[0m\u001b[0;34m=\u001b[0m\u001b[0mclass_weight\u001b[0m\u001b[0;34m,\u001b[0m\u001b[0;34m\u001b[0m\u001b[0;34m\u001b[0m\u001b[0m\n\u001b[0;32m-> 1154\u001b[0;31m             batch_size=batch_size)\n\u001b[0m\u001b[1;32m   1155\u001b[0m \u001b[0;34m\u001b[0m\u001b[0m\n\u001b[1;32m   1156\u001b[0m         \u001b[0;31m# Prepare validation data.\u001b[0m\u001b[0;34m\u001b[0m\u001b[0;34m\u001b[0m\u001b[0;34m\u001b[0m\u001b[0m\n",
      "\u001b[0;32m~/.local/lib/python3.6/site-packages/keras/engine/training.py\u001b[0m in \u001b[0;36m_standardize_user_data\u001b[0;34m(self, x, y, sample_weight, class_weight, check_array_lengths, batch_size)\u001b[0m\n\u001b[1;32m    619\u001b[0m                 \u001b[0mfeed_output_shapes\u001b[0m\u001b[0;34m,\u001b[0m\u001b[0;34m\u001b[0m\u001b[0;34m\u001b[0m\u001b[0m\n\u001b[1;32m    620\u001b[0m                 \u001b[0mcheck_batch_axis\u001b[0m\u001b[0;34m=\u001b[0m\u001b[0;32mFalse\u001b[0m\u001b[0;34m,\u001b[0m  \u001b[0;31m# Don't enforce the batch size.\u001b[0m\u001b[0;34m\u001b[0m\u001b[0;34m\u001b[0m\u001b[0m\n\u001b[0;32m--> 621\u001b[0;31m                 exception_prefix='target')\n\u001b[0m\u001b[1;32m    622\u001b[0m \u001b[0;34m\u001b[0m\u001b[0m\n\u001b[1;32m    623\u001b[0m             \u001b[0;31m# Generate sample-wise weight values given the `sample_weight` and\u001b[0m\u001b[0;34m\u001b[0m\u001b[0;34m\u001b[0m\u001b[0;34m\u001b[0m\u001b[0m\n",
      "\u001b[0;32m~/.local/lib/python3.6/site-packages/keras/engine/training_utils.py\u001b[0m in \u001b[0;36mstandardize_input_data\u001b[0;34m(data, names, shapes, check_batch_axis, exception_prefix)\u001b[0m\n\u001b[1;32m    143\u001b[0m                             \u001b[0;34m': expected '\u001b[0m \u001b[0;34m+\u001b[0m \u001b[0mnames\u001b[0m\u001b[0;34m[\u001b[0m\u001b[0mi\u001b[0m\u001b[0;34m]\u001b[0m \u001b[0;34m+\u001b[0m \u001b[0;34m' to have shape '\u001b[0m \u001b[0;34m+\u001b[0m\u001b[0;34m\u001b[0m\u001b[0;34m\u001b[0m\u001b[0m\n\u001b[1;32m    144\u001b[0m                             \u001b[0mstr\u001b[0m\u001b[0;34m(\u001b[0m\u001b[0mshape\u001b[0m\u001b[0;34m)\u001b[0m \u001b[0;34m+\u001b[0m \u001b[0;34m' but got array with shape '\u001b[0m \u001b[0;34m+\u001b[0m\u001b[0;34m\u001b[0m\u001b[0;34m\u001b[0m\u001b[0m\n\u001b[0;32m--> 145\u001b[0;31m                             str(data_shape))\n\u001b[0m\u001b[1;32m    146\u001b[0m     \u001b[0;32mreturn\u001b[0m \u001b[0mdata\u001b[0m\u001b[0;34m\u001b[0m\u001b[0;34m\u001b[0m\u001b[0m\n\u001b[1;32m    147\u001b[0m \u001b[0;34m\u001b[0m\u001b[0m\n",
      "\u001b[0;31mValueError\u001b[0m: Error when checking target: expected dense_layer2 to have shape (31,) but got array with shape (6,)"
     ]
    }
   ],
   "source": [
    "cnn_model.fit(SENTENCES_BASE1, CATEGORY_BASE1, batch_size=256, epochs=5, validation_data=(SENTENCES_BASE2[5000:6000], CATEGORY_BASE2[5000:6000]))"
   ]
  },
  {
   "cell_type": "code",
   "execution_count": null,
   "metadata": {},
   "outputs": [],
   "source": [
    "model.add(Conv1D(filters=128, kernel_size=4, padding='same', activation='relu'))\n",
    "model.add(MaxPooling1D(pool_size=2))\n",
    "model.add(Conv1D(filters=64, kernel_size=4, padding='same', activation='relu'))\n",
    "model.add(MaxPooling1D(pool_size=2))\n",
    "model.add(Conv1D(filters=32, kernel_size=4, padding='same', activation='relu'))\n",
    "model.add(MaxPooling1D(pool_size=2))\n",
    "model.add(Flatten())\n",
    "model.add(Dense(256, activation='relu'))\n",
    "model.add(Dense(1, activation='sigmoid'))\n",
    "model.compile(loss='binary_crossentropy', optimizer='adam', metrics=['accuracy'])\n",
    "model.summary()"
   ]
  },
  {
   "cell_type": "code",
   "execution_count": null,
   "metadata": {},
   "outputs": [],
   "source": []
  }
 ],
 "metadata": {
  "kernelspec": {
   "display_name": "Python 3",
   "language": "python",
   "name": "python3"
  },
  "language_info": {
   "codemirror_mode": {
    "name": "ipython",
    "version": 3
   },
   "file_extension": ".py",
   "mimetype": "text/x-python",
   "name": "python",
   "nbconvert_exporter": "python",
   "pygments_lexer": "ipython3",
   "version": "3.6.9"
  }
 },
 "nbformat": 4,
 "nbformat_minor": 2
}
